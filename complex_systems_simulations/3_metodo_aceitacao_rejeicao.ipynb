{
 "cells": [
  {
   "cell_type": "markdown",
   "metadata": {},
   "source": [
    "## Método de aceitação - rejeição\n",
    "\n",
    "Mecanismo para geração de números aleatórios.\n",
    "\n",
    "Normalmente utilizado quando não é possível a aplicação do método da inversa.\n",
    "\n",
    "### Dica\n",
    "Na hora da geração é possível fazer a geração de metade da função e depois mover alguns para o outro lado do eixo, isso economiza tempo computacional."
   ]
  },
  {
   "cell_type": "code",
   "execution_count": 14,
   "metadata": {},
   "outputs": [],
   "source": [
    "import math, random\n",
    "import numpy as np\n",
    "import matplotlib.pyplot as plt\n",
    "import time\n",
    "\n",
    "xl, yl, N = np.array([]), np.array([]), 1000"
   ]
  },
  {
   "cell_type": "markdown",
   "metadata": {},
   "source": [
    "Exemplo:"
   ]
  },
  {
   "cell_type": "code",
   "execution_count": 19,
   "metadata": {},
   "outputs": [],
   "source": [
    "def f(x):\n",
    "    return math.exp((-x ** 2)/2)/math.sqrt(2 * math.pi)\n",
    "\n",
    "def g(x):\n",
    "    return f(0)\n",
    "\n",
    "def step0():\n",
    "    x0 = random.uniform(-3, 3)\n",
    "    return x0\n",
    "\n",
    "def step1(x0):\n",
    "    A = (f(x0)/g(x0)) * (1 / math.sqrt(2 * math.pi))\n",
    "    return A\n",
    "\n",
    "def step2():\n",
    "    y0 = random.uniform(0, 1)\n",
    "    return y0\n",
    "\n",
    "def step3(x0, y0, A):\n",
    "    global xl, yl\n",
    "    if y0 <= A:\n",
    "        xl = np.append(xl, x0)\n",
    "        yl = np.append(yl, y0)"
   ]
  },
  {
   "cell_type": "code",
   "execution_count": 20,
   "metadata": {},
   "outputs": [
    {
     "name": "stdout",
     "output_type": "stream",
     "text": [
      "Time spent = 0.0061550140380859375\n"
     ]
    },
    {
     "data": {
      "image/png": "[encoded data removed]",
      "text/plain": [
       "<Figure size 432x288 with 1 Axes>"
      ]
     },
     "metadata": {
      "needs_background": "light"
     },
     "output_type": "display_data"
    }
   ],
   "source": [
    "def constGen():\n",
    "    start = time.time()\n",
    "    for i in range(N):\n",
    "        x0 = step0()\n",
    "        A = step1(x0)\n",
    "        y0 = step2()\n",
    "        step3(x0, y0, A)\n",
    "    end = time.time()\n",
    "    print(f'Time spent = {end - start}')\n",
    "    plt.plot(xl, yl, 'ro')\n",
    "    plt.plot(xl, [1] * len(xl), 'b')\n",
    "    plt.show()\n",
    "    \n",
    "constGen()\n",
    "\n",
    "xl, yl = np.array([]), np.array([])"
   ]
  },
  {
   "cell_type": "code",
   "execution_count": 22,
   "metadata": {},
   "outputs": [
    {
     "name": "stdout",
     "output_type": "stream",
     "text": [
      "Time spent = 0.005954742431640625\n"
     ]
    },
    {
     "data": {
      "image/png": "[encoded data removed]",
      "text/plain": [
       "<Figure size 432x288 with 1 Axes>"
      ]
     },
     "metadata": {
      "needs_background": "light"
     },
     "output_type": "display_data"
    }
   ],
   "source": [
    "def gv2(x):\n",
    "    return (1 / math.sqrt(2 * math.pi))\n",
    "\n",
    "def constGen():\n",
    "    start = time.time()\n",
    "    for i in range(N):\n",
    "        x0 = step0()\n",
    "        A = step1(x0)\n",
    "        y0 = step2()\n",
    "        step3(x0, y0, A)\n",
    "    end = time.time()\n",
    "    print(f'Time spent = {end - start}')\n",
    "    plt.plot(xl, yl, 'ro')\n",
    "    \n",
    "    ay = np.array([])\n",
    "    for i in xl:\n",
    "        ay = np.append(ay, gv2(i))\n",
    "    plt.plot(xl, ay, 'b')\n",
    "    plt.show()\n",
    "    \n",
    "constGen()\n",
    "\n",
    "xl, yl = np.array([]), np.array([])"
   ]
  },
  {
   "cell_type": "code",
   "execution_count": null,
   "metadata": {},
   "outputs": [],
   "source": []
  }
 ],
 "metadata": {
  "kernelspec": {
   "display_name": "Python 3",
   "language": "python",
   "name": "python3"
  },
  "language_info": {
   "codemirror_mode": {
    "name": "ipython",
    "version": 3
   },
   "file_extension": ".py",
   "mimetype": "text/x-python",
   "name": "python",
   "nbconvert_exporter": "python",
   "pygments_lexer": "ipython3",
   "version": "3.7.1"
  }
 },
 "nbformat": 4,
 "nbformat_minor": 2
}
