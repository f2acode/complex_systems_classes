{
 "cells": [
  {
   "cell_type": "markdown",
   "metadata": {},
   "source": [
    "<script src='https://cdnjs.cloudflare.com/ajax/libs/mathjax/2.7.5/MathJax.js?config=TeX-MML-AM_CHTML' async></script>"
   ]
  },
  {
   "cell_type": "markdown",
   "metadata": {},
   "source": [
    "p-valor é uma medida que define se você pode aceitar a amostra (distribuição f)"
   ]
  },
  {
   "cell_type": "markdown",
   "metadata": {},
   "source": [
    "## Análise de aceitação e rejeição\n",
    "\n",
    "É possível pegar uma média de dois conjuntos e comparar.\n",
    "\n",
    "A razão entre as variâncias dos lotes, é usada na distribuição f para aceitação e rejeição também."
   ]
  },
  {
   "cell_type": "markdown",
   "metadata": {},
   "source": [
    "## Análise de variância\n",
    "\n",
    "Na técnica de regressão, muitos modelos podem ser considerados (especialmente nos casos multivariados).\n",
    "\n",
    "Assim, um passo importante é a seleção de modelos.\n",
    "\n",
    "Suponha dois modelos $Y = X_1\\beta_1 + X_2\\beta_2 + \\epsilon$ com parâmetros distintos.\n",
    "\n",
    "Podemos estimar o grau de diferença entre eles, por\n",
    "\n",
    "$T = \\frac{n-m}{m-k} x \\frac{}{} = \\frac{}{}$\n",
    "\n",
    "Onde Y ..."
   ]
  },
  {
   "cell_type": "markdown",
   "metadata": {},
   "source": [
    "## Escolha do melhor modelo\n",
    "\n",
    "Caso de escolha de ajuste polinomial com significância estatística\n",
    "\n",
    "Escolha do \"menor\" modelo através de minimização de erro preditivo.\n",
    "\n",
    "Usando a variância é possível testar modelos polinomiais e verificar se estão dentro do grau de confiança, achando assim o melhor custo benefício."
   ]
  },
  {
   "cell_type": "markdown",
   "metadata": {},
   "source": [
    "## Validação cruzada\n",
    "\n",
    "Ajuste com exclusão de partição amostral (validação cruzada)\n",
    "\n",
    "Erro acumulado: $$\\sum_{k=1}^{n}(y_k - y-k)^2$$"
   ]
  },
  {
   "cell_type": "markdown",
   "metadata": {},
   "source": [
    "## Simplificando a validação cruzada\n",
    "\n",
    "Resíduo:\n",
    "\n",
    "$$R = \\sum_{k=1}^n(\\frac{u_k}{1-p_k})^2$$"
   ]
  },
  {
   "cell_type": "markdown",
   "metadata": {},
   "source": [
    "## Exemplo numérico\n",
    "\n",
    "Crie um conjunto de dados aleatórios, a partir de um determinado modelo linear (polinômio de ordem 1, 2 ou 3, de escolha)\n",
    "\n",
    "$$Y_i = \\beta_0+x $$\n",
    "\n",
    "Utilize o método de minimização de variância para modelos lineares de ordem 0 a 5, e determine R para cada um.\n",
    "\n",
    "Para qual modelo R foi menor?\n",
    "\n",
    "---\n",
    "Temos que calcular o resíduo para testar a geração de modelo através da minimização de erros"
   ]
  },
  {
   "cell_type": "code",
   "execution_count": 111,
   "metadata": {},
   "outputs": [
    {
     "name": "stdout",
     "output_type": "stream",
     "text": [
      "\n",
      "\n",
      "  Variable     N     Mean        SD        SE  95% Conf.  Interval\n",
      "0  x_value  10.0  5.03284  2.880907  0.911023   2.971963  7.093716\n",
      "\n",
      "    x_value  error_value  beta\n",
      "0  4.758831    -0.013227     1\n",
      "1  2.564964     0.000843     1\n",
      "2  2.437297    -0.026115     1\n",
      "3  2.320941    -0.127249     1\n",
      "4  7.197876    -0.082606     1\n",
      "\n",
      "\n",
      "  Variable      N      Mean       SD        SE  95% Conf.  Interval\n",
      "0  x_value  100.0  4.561756  3.05273  0.305273   3.956029  5.167484\n",
      "\n",
      "    x_value  error_value  beta\n",
      "0  2.461368    -0.088192     1\n",
      "1  4.921310     0.112065     1\n",
      "2  9.298558     0.305407     1\n",
      "3  9.955440     0.227284     1\n",
      "4  7.379978    -0.185347     1\n",
      "\n",
      "\n",
      "  Variable       N      Mean        SD        SE  95% Conf.  Interval\n",
      "0  x_value  1000.0  4.944217  2.944012  0.093098   4.761528  5.126907\n",
      "\n",
      "    x_value  error_value  beta\n",
      "0  2.628570     0.059298     1\n",
      "1  2.499597    -0.070332     1\n",
      "2  4.790901    -0.002233     1\n",
      "3  6.661187    -0.030387     1\n",
      "4  9.229173    -0.303531     1\n"
     ]
    }
   ],
   "source": [
    "from numpy import random\n",
    "import researchpy as rp\n",
    "import pandas as pd\n",
    "\n",
    "df10, df100, df1000 = pd.DataFrame(), pd.DataFrame(), pd.DataFrame()\n",
    "\n",
    "def gen_uniform_value():\n",
    "    return random.uniform(0, 10)\n",
    "\n",
    "def gen_normal_err():\n",
    "    sigma, average = 0.2, 0\n",
    "    return sigma * random.randn() + average\n",
    "\n",
    "# gerando os valores\n",
    "def run(N, df):\n",
    "    df = pd.DataFrame()\n",
    "    x, e, b = [], [], []\n",
    "\n",
    "    for i in range(N):\n",
    "        x.append(gen_uniform_value())\n",
    "        e.append(gen_normal_err())\n",
    "        b.append(1)\n",
    "    df['x_value'] = x\n",
    "    df['error_value'] = e\n",
    "    df['beta'] = b\n",
    "    print(rp.summary_cont(df['x_value']))\n",
    "    print(f'\\n{df.head()}')\n",
    "    return df\n",
    "\n",
    "df10 = run(10, df10)\n",
    "df100 = run(100, df100)\n",
    "df1000 = run(1000, df1000)"
   ]
  },
  {
   "cell_type": "code",
   "execution_count": 112,
   "metadata": {},
   "outputs": [
    {
     "name": "stdout",
     "output_type": "stream",
     "text": [
      "x_value        8.299623\n",
      "error_value    0.029398\n",
      "beta           0.000000\n",
      "dtype: float64\n",
      "x_value        9.319160\n",
      "error_value    0.045307\n",
      "beta           0.000000\n",
      "dtype: float64\n",
      "x_value        8.667208\n",
      "error_value    0.038694\n",
      "beta           0.000000\n",
      "dtype: float64\n"
     ]
    }
   ],
   "source": [
    "# determinar a veriancia acumulada de ajustar um modelo polinomios com base nos dados\n",
    "print(df10.var())\n",
    "print(df100.var())\n",
    "print(df1000.var())\n",
    "\n",
    "# montar uma tabela de R, com N = 10, 100, 1000"
   ]
  },
  {
   "cell_type": "markdown",
   "metadata": {},
   "source": [
    "### References\n",
    "\n",
    "* https://pythonfordatascience.org/anova-python/"
   ]
  }
 ],
 "metadata": {
  "kernelspec": {
   "display_name": "Python 3",
   "language": "python",
   "name": "python3"
  },
  "language_info": {
   "codemirror_mode": {
    "name": "ipython",
    "version": 3
   },
   "file_extension": ".py",
   "mimetype": "text/x-python",
   "name": "python",
   "nbconvert_exporter": "python",
   "pygments_lexer": "ipython3",
   "version": "3.7.1"
  }
 },
 "nbformat": 4,
 "nbformat_minor": 2
}
