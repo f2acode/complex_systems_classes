{
 "cells": [
  {
   "cell_type": "code",
   "execution_count": 71,
   "metadata": {},
   "outputs": [
    {
     "data": {
      "image/png": "[encoded data removed]",
      "text/plain": [
       "<Figure size 432x288 with 1 Axes>"
      ]
     },
     "metadata": {
      "needs_background": "light"
     },
     "output_type": "display_data"
    }
   ],
   "source": [
    "import random\n",
    "import matplotlib.pyplot as plt\n",
    "import math \n",
    "import numpy as np\n",
    "\n",
    "# o número de moedas jogadas - ensaio - k\n",
    "# iterações = n\n",
    "# distribuição binomial\n",
    "\n",
    "def pk(n, k):\n",
    "    return (math.factorial(n)/(math.factorial(k) * math.factorial(n - k)))/(2 ** n)\n",
    "\n",
    "k = 0\n",
    "r = 100000\n",
    "n = 20\n",
    "dataArray = []\n",
    "array = []\n",
    "\n",
    "for i in range(1, n):\n",
    "    array.append(pk(n, i))\n",
    "\n",
    "for j in range(0, r):\n",
    "    for i in range(0, n):\n",
    "        k += random.choice([0, 1])\n",
    "    dataArray.append(k)\n",
    "    k = 0\n",
    "    \n",
    "dataArray\n",
    "plt.hist(dataArray, bins=n +1)\n",
    "plt.plot(3, 120/(2 ** n) * r, \"*\")\n",
    "\n",
    "for i in range(1, n):\n",
    "    plt.plot(i, pk(n, i) * r, \"k*\")\n",
    "    \n",
    "plt.show()"
   ]
  },
  {
   "cell_type": "code",
   "execution_count": null,
   "metadata": {},
   "outputs": [],
   "source": []
  }
 ],
 "metadata": {
  "kernelspec": {
   "display_name": "Python 3",
   "language": "python",
   "name": "python3"
  },
  "language_info": {
   "codemirror_mode": {
    "name": "ipython",
    "version": 3
   },
   "file_extension": ".py",
   "mimetype": "text/x-python",
   "name": "python",
   "nbconvert_exporter": "python",
   "pygments_lexer": "ipython3",
   "version": "3.7.1"
  }
 },
 "nbformat": 4,
 "nbformat_minor": 2
}
