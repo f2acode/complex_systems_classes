{
 "cells": [
  {
   "cell_type": "markdown",
   "metadata": {},
   "source": [
    "<script src='https://cdnjs.cloudflare.com/ajax/libs/mathjax/2.7.5/MathJax.js?config=TeX-MML-AM_CHTML' async></script>"
   ]
  },
  {
   "cell_type": "markdown",
   "metadata": {},
   "source": [
    "p-valor é uma medida que define se você pode aceitar a amostra (distribuição f)"
   ]
  },
  {
   "cell_type": "markdown",
   "metadata": {},
   "source": [
    "## Análise de aceitação e rejeição\n",
    "\n",
    "É possível pegar uma média de dois conjuntos e comparar.\n",
    "\n",
    "A razão entre as variâncias dos lotes, é usada na distribuição f para aceitação e rejeição também."
   ]
  },
  {
   "cell_type": "markdown",
   "metadata": {},
   "source": [
    "## Análise de variância\n",
    "\n",
    "Na técnica de regressão, muitos modelos podem ser considerados (especialmente nos casos multivariados).\n",
    "\n",
    "Assim, um passo importante é a seleção de modelos.\n",
    "\n",
    "Suponha dois modelos $Y = X_1\\beta_1 + X_2\\beta_2 + \\epsilon$ com parâmetros distintos.\n",
    "\n",
    "Podemos estimar o grau de diferença entre eles, por\n",
    "\n",
    "$T = \\frac{n-m}{m-k} x \\frac{}{} = \\frac{}{}$\n",
    "\n",
    "Onde Y ..."
   ]
  },
  {
   "cell_type": "markdown",
   "metadata": {},
   "source": [
    "## Escolha do melhor modelo\n",
    "\n",
    "Caso de escolha de ajuste polinomial com significância estatística\n",
    "\n",
    "Escolha do \"menor\" modelo através de minimização de erro preditivo.\n",
    "\n",
    "Usando a variância é possível testar modelos polinomiais e verificar se estão dentro do grau de confiança, achando assim o melhor custo benefício."
   ]
  },
  {
   "cell_type": "markdown",
   "metadata": {},
   "source": [
    "## Validação cruzada\n",
    "\n",
    "Ajuste com exclusão de partição amostral (validação cruzada)\n",
    "\n",
    "Erro acumulado: $$\\sum_{k=1}^{n}(y_k - y-k)^2$$"
   ]
  },
  {
   "cell_type": "markdown",
   "metadata": {},
   "source": [
    "## Simplificando a validação cruzada\n",
    "\n",
    "Resíduo:\n",
    "\n",
    "$$R = \\sum_{k=1}^n(\\frac{u_k}{1-p_k})^2$$"
   ]
  },
  {
   "cell_type": "markdown",
   "metadata": {},
   "source": [
    "## Exemplo numérico\n",
    "\n",
    "Crie um conjunto de dados aleatórios, a partir de um determinado modelo linear (polinômio de ordem 1, 2 ou 3, de escolha)\n",
    "\n",
    "$$Y_i = \\beta_0+x $$\n",
    "\n",
    "Utilize o método de minimização de variância para modelos lineares de ordem 0 a 5, e determine R para cada um.\n",
    "\n",
    "Para qual modelo R foi menor?\n",
    "\n",
    "---\n",
    "Temos que calcular o resíduo para testar a geração de modelo através da minimização de erros"
   ]
  },
  {
   "cell_type": "code",
   "execution_count": 6,
   "metadata": {},
   "outputs": [],
   "source": [
    "from numpy import random\n",
    "\n",
    "# gerando os valores\n",
    "\n",
    "N = 10\n",
    "x_vet, err_vet, beta_vet = [], [], []\n",
    "\n",
    "for i in range(N):\n",
    "    x_vet.append(random.uniform(0, 10)) # uniform\n",
    "    \n",
    "    sigma, average = 0.2, 0\n",
    "    err_vet.append(sigma * random.randn() + average) # normal\n",
    "    \n",
    "    beta_vet.append(1)\n",
    "    \n",
    "\n",
    "# determinar a veriancia acumulada de ajustar um modelo polinomios com base nos dados\n",
    "\n",
    "\n",
    "\n",
    "# verificar qual minimiza os erros\n",
    "\n",
    "# montar uma tabela de R, com N = 10, 100, 1000"
   ]
  },
  {
   "cell_type": "code",
   "execution_count": null,
   "metadata": {},
   "outputs": [],
   "source": []
  }
 ],
 "metadata": {
  "kernelspec": {
   "display_name": "Python 3",
   "language": "python",
   "name": "python3"
  },
  "language_info": {
   "codemirror_mode": {
    "name": "ipython",
    "version": 3
   },
   "file_extension": ".py",
   "mimetype": "text/x-python",
   "name": "python",
   "nbconvert_exporter": "python",
   "pygments_lexer": "ipython3",
   "version": "3.7.1"
  }
 },
 "nbformat": 4,
 "nbformat_minor": 2
}
