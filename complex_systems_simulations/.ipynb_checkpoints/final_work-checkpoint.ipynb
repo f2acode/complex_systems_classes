{
 "cells": [
  {
   "cell_type": "markdown",
   "metadata": {},
   "source": [
    "### Classification of Depression on Social Media Using Text Mining"
   ]
  },
  {
   "cell_type": "markdown",
   "metadata": {},
   "source": [
    "The aim of the project is to predict early signs of depression through **Social Media** text mining.\n",
    "\n",
    "![img](https://camo.githubusercontent.com/97fa56b4cf5d83227f2f99eec853e56e0e9f87d1/68747470733a2f2f692e6962622e636f2f35764874746e532f62622e706e67)"
   ]
  },
  {
   "cell_type": "markdown",
   "metadata": {},
   "source": [
    "### Steps\n",
    "\n",
    "1. Create a twitter developer account\n",
    "\n",
    "consumer_key = 'EPINOmoZrP12DET2FJDIAj1pJ'\n",
    "\n",
    "consumer_secret = '2Jr01uaTuKUVLqkk4NVIzT8D9P7EWo5DfVqejbgsUKZUYhbGlO'\n",
    "\n",
    "access_token = '816743719143698433-pLpzyZCnbDphHHX6PrtQeMM5dQ0NyBl'\n",
    "\n",
    "access_secret = 'g9qz34R2HMyc3KPz77tltNcqOUYcSI3TpHgV7brOfCDmf'"
   ]
  },
  {
   "cell_type": "markdown",
   "metadata": {},
   "source": [
    "2. Use the credentials to download the current tweets using keywords such as depression, anxiety or sadness."
   ]
  },
  {
   "cell_type": "markdown",
   "metadata": {},
   "source": [
    "### References\n",
    "\n",
    "Ma, Long & Wang, Zhibo & Zhang, Yanqing. (2017). Extracting Depression Symptoms from Social Networks and Web Blogs via Text Mining. 325-330. 10.1007/978-3-319-59575-7_29.\n",
    "\n",
    "https://github.com/niquejoe/Classification-of-Depression-on-Social-Media-Using-Text-Mining"
   ]
  }
 ],
 "metadata": {
  "kernelspec": {
   "display_name": "Python 3",
   "language": "python",
   "name": "python3"
  },
  "language_info": {
   "codemirror_mode": {
    "name": "ipython",
    "version": 3
   },
   "file_extension": ".py",
   "mimetype": "text/x-python",
   "name": "python",
   "nbconvert_exporter": "python",
   "pygments_lexer": "ipython3",
   "version": "3.7.3"
  }
 },
 "nbformat": 4,
 "nbformat_minor": 2
}
