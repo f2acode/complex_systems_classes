{
 "cells": [
  {
   "cell_type": "markdown",
   "metadata": {},
   "source": [
    "<script src='https://cdnjs.cloudflare.com/ajax/libs/mathjax/2.7.5/MathJax.js?config=TeX-MML-AM_CHTML' async></script>"
   ]
  },
  {
   "cell_type": "markdown",
   "metadata": {},
   "source": [
    "**Nome:** Felipe Augusto de Almeida - **NUSP:** 11312371"
   ]
  },
  {
   "cell_type": "markdown",
   "metadata": {},
   "source": [
    "**1)** Considere o lançamento de um dardo em um alvo circular de raio unitário e seja X a v.a. que representa a distância entre o ponto em que o dardo atinge o alvo e seu centro. Assumindo que o dardo pode acertar o alvo em qualquer lugar igualmente, determine o domínio de X e encontre $P(X < a)$ e $P(a < X= b)$, com $a < b <= 1$."
   ]
  },
  {
   "cell_type": "markdown",
   "metadata": {},
   "source": [
    "Solução:\n",
    "\n",
    "$D(x) = {x \\leq 1 e x > 0}$\n",
    "\n",
    "$P(x < a) = P(a)$\n",
    "\n",
    "$P(a < x \\leq b) = P(b) - P(a)$"
   ]
  },
  {
   "cell_type": "markdown",
   "metadata": {},
   "source": [
    "**2)** Um canal de comunicação digital com ruído possui 1% de probabilidade de transmitir um bit incorretamente.\n",
    "\n",
    "i. Calcule a probabilidade de se observar mais de um erro a cada 16 bits recebidos;"
   ]
  },
  {
   "cell_type": "markdown",
   "metadata": {},
   "source": [
    "Solução:\n",
    "\n",
    "$P(erro > 1, a\\space cada\\space 16\\space bits\\space recebidos) = \\frac{2}{16} * 0,01 = 0,00125$"
   ]
  },
  {
   "cell_type": "markdown",
   "metadata": {},
   "source": [
    "**3)** Uma linha de produção fabrica resistores de 1000 $\\Omega$ (ohms) que possuem uma tolerância de $\\pm$10%. Supondo que o valor da resistência dos resistores seja uma v.a. normal de média 1000 $\\Omega$ e variância 2500 $\\Omega^2$, encontre a probabilidade de que um resistor escolhido ao acaso seja rejeitado."
   ]
  },
  {
   "cell_type": "markdown",
   "metadata": {},
   "source": [
    "Solução:\n",
    "\n",
    "Valor da resistência dos resistores = VA normal\n",
    "\n",
    "$\\bar{x} = 1000 \\Omega$\n",
    "\n",
    "$VAR = 2500 \\Omega^2$\n",
    "\n",
    "$DP = \\sqrt{VAR} = 50$\n",
    "\n",
    "$P(resistor\\space seja\\space rejeitado) = 5%$"
   ]
  },
  {
   "cell_type": "markdown",
   "metadata": {},
   "source": [
    "**4)** O tempo T de espera pelo ônibus circular no campus da USP-Butantã pode ser representado como uma v.a. distribuída exponencialmente com média 10 minutos.\n",
    "\n",
    "i. Calcule a probabilidade de se ter que esperar mais de 15 minutos pelo ônibus;"
   ]
  },
  {
   "cell_type": "markdown",
   "metadata": {},
   "source": [
    "ii. Calcule a probabilidade de que o tempo de espera esteja dentro do intervalo $\\mu \\pm \\sigma$ da distribuição, onde $\\mu = E(T)$ e $\\sigma^2 = Var(T) = E(T^2) - E(T)^2$"
   ]
  },
  {
   "cell_type": "markdown",
   "metadata": {},
   "source": [
    "**5)** Você está tentando acender uma fogueira com fósforos em um dia chuvoso. Cada fósforo possui uma chance p = 0.1 de acender a fogueira e você só tem quatro fósforos.\n",
    "\n",
    "i. Qual é a probabilidade de você conseguir acender a fogueira antes de ficar sem fósforos?"
   ]
  },
  {
   "cell_type": "markdown",
   "metadata": {},
   "source": [
    "ii. Riscando dois fósforos ao mesmo tempo, as chances de conseguir acender a fogueira aumentam para p = 0.3. Seria uma boa ideia usar dois fósforos de cada vez para tentar acender a fogueira?"
   ]
  },
  {
   "cell_type": "markdown",
   "metadata": {},
   "source": [
    "**6)** Seja X ~ N(0,1) e Y ~ exp(X).\n",
    "\n",
    "i. Encontre a p.d.f. de Y e faça um gráfico da função encontrada."
   ]
  },
  {
   "cell_type": "markdown",
   "metadata": {},
   "source": [
    "ii. Gere uma lista $x = (x_1,...,x_n)$ de $n = 10^4$ números aleatórios N(0,1) e calcule $y = (y_1,...,y_n)$, onde $y_i = exp(x_i), i = 1, ..., n.$ Faça um histograma de y e compare a p.d.f. para X encontrada no item (i)."
   ]
  },
  {
   "cell_type": "markdown",
   "metadata": {},
   "source": [
    "**7)** Seja X, Y ~ U(0,1) duas v.a.'s independentes. Encontre a p.d.f. das v.a.'s X-Y e X/Y"
   ]
  },
  {
   "cell_type": "code",
   "execution_count": null,
   "metadata": {},
   "outputs": [],
   "source": []
  }
 ],
 "metadata": {
  "kernelspec": {
   "display_name": "Python 3",
   "language": "python",
   "name": "python3"
  },
  "language_info": {
   "codemirror_mode": {
    "name": "ipython",
    "version": 3
   },
   "file_extension": ".py",
   "mimetype": "text/x-python",
   "name": "python",
   "nbconvert_exporter": "python",
   "pygments_lexer": "ipython3",
   "version": "3.7.1"
  }
 },
 "nbformat": 4,
 "nbformat_minor": 2
}
