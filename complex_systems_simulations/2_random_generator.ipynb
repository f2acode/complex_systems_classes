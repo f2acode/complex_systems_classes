{
 "cells": [
  {
   "cell_type": "code",
   "execution_count": 183,
   "metadata": {},
   "outputs": [
    {
     "name": "stdout",
     "output_type": "stream",
     "text": [
      "176.69822965938988\n",
      "[0.5, 1.5, 2.5, 3.5, 4.5, 5.5, 6.5, 7.5, 8.5, 9.5]\n"
     ]
    },
    {
     "data": {
      "image/png": "[encoded data removed]",
      "text/plain": [
       "<Figure size 432x288 with 1 Axes>"
      ]
     },
     "metadata": {
      "needs_background": "light"
     },
     "output_type": "display_data"
    }
   ],
   "source": [
    "import random, math\n",
    "import matplotlib.pyplot as plt\n",
    "import numpy as np\n",
    "\n",
    "#rn = 1 - math.exp(-lamb * x) - integral\n",
    "# depois inverter\n",
    "\n",
    "lamb = 1\n",
    "n = 100\n",
    "bins = 10\n",
    "randomNumbers, sequencialNumbers, diff = [], [], []\n",
    "error = 0\n",
    "\n",
    "def func(x):\n",
    "    return (-1/ lamb) * np.log(1 - x)\n",
    "\n",
    "for i in range(n):\n",
    "    x = random.uniform(0, 1)\n",
    "    sequencialNumbers.append(func(i/100))\n",
    "    randomNumbers.append(func(x))\n",
    "    diff.append(sequencialNumbers[i] - randomNumbers[i])\n",
    "    \n",
    "for i in range(len(diff)):\n",
    "    diff[i] = abs(diff[i])\n",
    "    error += diff[i] ** 2\n",
    "\n",
    "print(error)\n",
    "    \n",
    "print(midPoints)\n",
    "    \n",
    "plt.hist(randomNumbers, bins= bins)\n",
    "plt.hist(sequencialNumbers, bins= bins)\n",
    "plt.show()"
   ]
  },
  {
   "cell_type": "markdown",
   "metadata": {},
   "source": [
    "criar relatório com esse exercício e em relação ao exercício anterior = calcular o desvio padrão"
   ]
  }
 ],
 "metadata": {
  "kernelspec": {
   "display_name": "Python 3",
   "language": "python",
   "name": "python3"
  },
  "language_info": {
   "codemirror_mode": {
    "name": "ipython",
    "version": 3
   },
   "file_extension": ".py",
   "mimetype": "text/x-python",
   "name": "python",
   "nbconvert_exporter": "python",
   "pygments_lexer": "ipython3",
   "version": "3.7.1"
  }
 },
 "nbformat": 4,
 "nbformat_minor": 2
}
