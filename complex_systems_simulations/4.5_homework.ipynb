{
 "cells": [
  {
   "cell_type": "markdown",
   "metadata": {},
   "source": [
    "<script src='https://cdnjs.cloudflare.com/ajax/libs/mathjax/2.7.5/MathJax.js?config=TeX-MML-AM_CHTML' async></script>"
   ]
  },
  {
   "cell_type": "markdown",
   "metadata": {},
   "source": [
    "**Nome:** Felipe Augusto de Almeida - **NUSP:** 11312371"
   ]
  },
  {
   "cell_type": "markdown",
   "metadata": {},
   "source": [
    "**1)** Considere o lançamento de um dardo em um alvo circular de raio unitário e seja X a v.a. que representa a distância entre o ponto em que o dardo atinge o alvo e seu centro. Assumindo que o dardo pode acertar o alvo em qualquer lugar igualmente, determine o domínio de X e encontre $P(X < a)$ e $P(a < X= b)$, com $a < b <= 1$."
   ]
  },
  {
   "cell_type": "markdown",
   "metadata": {},
   "source": [
    "Solução:\n",
    "\n",
    "$D(x) = {x \\leq 1 e x > 0}$\n",
    "\n",
    "$P(x < a) = P(a)$\n",
    "\n",
    "$P(a < x \\leq b) = P(b) - P(a)$"
   ]
  },
  {
   "cell_type": "markdown",
   "metadata": {},
   "source": [
    "**2)** Um canal de comunicação digital com ruído possui 1% de probabilidade de transmitir um bit incorretamente.\n",
    "\n",
    "i. Calcule a probabilidade de se observar mais de um erro a cada 16 bits recebidos;"
   ]
  },
  {
   "cell_type": "markdown",
   "metadata": {},
   "source": [
    "Solução:\n",
    "\n",
    "$P(erro > 1, a\\space cada\\space 16\\space bits\\space recebidos) = \\frac{2}{16} * 0,01 = 0,00125$"
   ]
  },
  {
   "cell_type": "markdown",
   "metadata": {},
   "source": [
    "**3)** Uma linha de produção fabrica resistores de 1000 $\\Omega$ (ohms) que possuem uma tolerância de $\\pm$10%. Supondo que o valor da resistência dos resistores seja uma v.a. normal de média 1000 $\\Omega$ e variância 2500 $\\Omega^2$, encontre a probabilidade de que um resistor escolhido ao acaso seja rejeitado."
   ]
  },
  {
   "cell_type": "markdown",
   "metadata": {},
   "source": [
    "Solução:\n",
    "\n",
    "Valor da resistência dos resistores = VA normal\n",
    "\n",
    "$\\bar{x} = 1000 \\Omega$\n",
    "\n",
    "$VAR = 2500 \\Omega^2$\n",
    "\n",
    "$DP = \\sqrt{VAR} = 50$\n",
    "\n",
    "$P(resistor\\space seja\\space rejeitado) = 5%$"
   ]
  },
  {
   "cell_type": "markdown",
   "metadata": {},
   "source": [
    "**4)** O tempo T de espera pelo ônibus circular no campus da USP-Butantã pode ser representado como uma v.a. distribuída exponencialmente com média 10 minutos.\n",
    "\n",
    "i. Calcule a probabilidade de se ter que esperar mais de 15 minutos pelo ônibus;\n",
    "\n",
    "$P(T > t) = e^{- \\lambda*t}$\n",
    "\n",
    "$E(T) = \\frac{1}{\\lambda}$\n",
    "\n",
    "$E(T) = 10$\n",
    "\n",
    "$\\frac{1}{\\lambda} = 10 \\therefore \\lambda = \\frac{1}{10}$\n",
    "\n",
    "$P(T > 15) = e^{\\frac{-1}{10}*15} = e^{-1,5} \\approx 0,223$"
   ]
  },
  {
   "cell_type": "markdown",
   "metadata": {},
   "source": [
    "ii. Calcule a probabilidade de que o tempo de espera esteja dentro do intervalo $\\mu \\pm \\sigma$ da distribuição, onde $\\mu = E(T)$ e $\\sigma^2 = Var(T) = E(T^2) - E(T)^2$\n",
    "\n",
    "$\\sigma^2 = E(T^2) - \\mu^2$\n",
    "\n",
    "$\\therefore -E(T^2) = -\\mu^2 - \\sigma^2*(-1)$\n",
    "\n",
    "$= E(T^2) = \\mu^2 + \\sigma^2$\n",
    "\n",
    "$E(T^2) = (\\frac{1}{\\lambda})^2 + (\\frac{1}{\\lambda})^2$\n",
    "\n",
    "$E(T^2) = \\frac{1}{\\lambda^2} + \\frac{1}{\\lambda^2} = \\frac{2}{\\lambda^2}$"
   ]
  },
  {
   "cell_type": "markdown",
   "metadata": {},
   "source": [
    "**5)** Você está tentando acender uma fogueira com fósforos em um dia chuvoso. Cada fósforo possui uma chance p = 0.1 de acender a fogueira e você só tem quatro fósforos.\n",
    "\n",
    "i. Qual é a probabilidade de você conseguir acender a fogueira antes de ficar sem fósforos?\n",
    "\n",
    "$P = \\frac{0,1}{0,5} * \\frac{0,1}{0,5} * \\frac{0,1}{0,5} * \\frac{0,1}{0,5} = \\frac{0,0001}{0,0625} = 0,0016$"
   ]
  },
  {
   "cell_type": "markdown",
   "metadata": {},
   "source": [
    "ii. Riscando dois fósforos ao mesmo tempo, as chances de conseguir acender a fogueira aumentam para p = 0.3. Seria uma boa ideia usar dois fósforos de cada vez para tentar acender a fogueira?\n",
    "\n",
    "$P = \\frac{0,3}{0,5} * \\frac{0,3}{0,5} = \\frac{0,09}{0,25} = 0,36$\n",
    "\n",
    "Sim, seria uma boa ideia usar dois fósforos de cada vez para tentar acender a fogueira."
   ]
  },
  {
   "cell_type": "markdown",
   "metadata": {},
   "source": [
    "**6)** Seja X ~ N(0,1) e Y ~ exp(X).\n",
    "\n",
    "i. Encontre a p.d.f. de Y e faça um gráfico da função encontrada."
   ]
  },
  {
   "cell_type": "code",
   "execution_count": 239,
   "metadata": {},
   "outputs": [
    {
     "data": {
      "image/png": "[encoded data removed]",
      "text/plain": [
       "<Figure size 432x288 with 1 Axes>"
      ]
     },
     "metadata": {
      "needs_background": "light"
     },
     "output_type": "display_data"
    }
   ],
   "source": [
    "import random, math\n",
    "import numpy as np\n",
    "import matplotlib.pyplot as plt\n",
    "\n",
    "N, X, Y = 100, np.array([]), np.array([])\n",
    "\n",
    "def pdf(x):\n",
    "    lambd = 2\n",
    "    return math.exp(lambd) ** (- (lambd * x))\n",
    "\n",
    "for i in range(N):\n",
    "    x = random.uniform(0, 1)\n",
    "    y = pdf(x)\n",
    "    \n",
    "    X = np.append(X, x)\n",
    "    Y = np.append(Y, y)\n",
    "\n",
    "X = np.sort(X)\n",
    "Y = np.sort(Y)[::-1]\n",
    "plt.plot(X, Y)\n",
    "plt.show()"
   ]
  },
  {
   "cell_type": "markdown",
   "metadata": {},
   "source": [
    "ii. Gere uma lista $x = (x_1,...,x_n)$ de $n = 10^4$ números aleatórios N(0,1) e calcule $y = (y_1,...,y_n)$, onde $y_i = exp(x_i), i = 1, ..., n.$ Faça um histograma de y e compare a p.d.f. para X encontrada no item (i)."
   ]
  },
  {
   "cell_type": "code",
   "execution_count": 240,
   "metadata": {},
   "outputs": [
    {
     "data": {
      "image/png": "[encoded data removed]",
      "text/plain": [
       "<Figure size 432x288 with 1 Axes>"
      ]
     },
     "metadata": {
      "needs_background": "light"
     },
     "output_type": "display_data"
    }
   ],
   "source": [
    "import random, math\n",
    "import matplotlib.pyplot as plt\n",
    "\n",
    "n = 10 ** 4\n",
    "x = [random.uniform(0, 1) for x in range(n)]\n",
    "y = [math.exp(xi) for xi in x]\n",
    "\n",
    "plt.hist(y, 10, alpha=0.5, density=True)\n",
    "\n",
    "X = [math.exp(xi) for xi in X]\n",
    "plt.plot(X, Y, 'g')\n",
    "plt.show()"
   ]
  },
  {
   "cell_type": "markdown",
   "metadata": {},
   "source": [
    "**7)** Seja X, Y ~ U(0,1) duas v.a.'s independentes. Encontre a p.d.f. das v.a.'s X-Y e X/Y"
   ]
  },
  {
   "cell_type": "code",
   "execution_count": 292,
   "metadata": {},
   "outputs": [
    {
     "data": {
      "image/png": "[encoded data removed]",
      "text/plain": [
       "<Figure size 432x288 with 1 Axes>"
      ]
     },
     "metadata": {
      "needs_background": "light"
     },
     "output_type": "display_data"
    }
   ],
   "source": [
    "N, X, X_minus_Y, X_sub_Y = 50, np.array([]), np.array([]), np.array([])\n",
    "\n",
    "for i in range(N):\n",
    "    X = random.uniform(0, 1)\n",
    "    Y = random.uniform(0, 1)\n",
    "    \n",
    "    X_minus_Y = np.append(X_minus_Y, pdf(X-Y))\n",
    "    X_sub_Y = np.append(X_sub_Y, pdf(X/Y))\n",
    "    X = np.append(X, i)\n",
    "\n",
    "X = [i for i in range(N)]\n",
    "X_minus_Y = np.sort(X_minus_Y)[::-1]\n",
    "X_sub_Y = np.sort(X_sub_Y)[::-1]\n",
    "\n",
    "plt.plot(X, X_minus_Y, 'y')\n",
    "plt.plot(X, X_sub_Y, 'g')\n",
    "plt.show()"
   ]
  }
 ],
 "metadata": {
  "kernelspec": {
   "display_name": "Python 3",
   "language": "python",
   "name": "python3"
  },
  "language_info": {
   "codemirror_mode": {
    "name": "ipython",
    "version": 3
   },
   "file_extension": ".py",
   "mimetype": "text/x-python",
   "name": "python",
   "nbconvert_exporter": "python",
   "pygments_lexer": "ipython3",
   "version": "3.7.1"
  }
 },
 "nbformat": 4,
 "nbformat_minor": 2
}
