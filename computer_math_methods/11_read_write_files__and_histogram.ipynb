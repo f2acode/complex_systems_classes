{
 "cells": [
  {
   "cell_type": "markdown",
   "metadata": {},
   "source": [
    "<script src='https://cdnjs.cloudflare.com/ajax/libs/mathjax/2.7.5/MathJax.js?config=TeX-MML-AM_CHTML' async></script>"
   ]
  },
  {
   "cell_type": "markdown",
   "metadata": {},
   "source": [
    "# Read/Write files\n",
    "\n",
    "Writing file out.txt (at the same directory of the program)"
   ]
  },
  {
   "cell_type": "code",
   "execution_count": 2,
   "metadata": {},
   "outputs": [],
   "source": [
    "file = open('out.txt', 'w')\n",
    "\n",
    "for i in range(3):\n",
    "    x = 2 * i\n",
    "    file.write(f'{x} {x} {x} hi \\n')\n",
    "file.close()"
   ]
  },
  {
   "cell_type": "markdown",
   "metadata": {},
   "source": [
    "Reading file out.txt (at the same directoty of the program)"
   ]
  },
  {
   "cell_type": "code",
   "execution_count": 6,
   "metadata": {},
   "outputs": [
    {
     "name": "stdout",
     "output_type": "stream",
     "text": [
      "0 0 0\n",
      "000\n",
      "0.0\n",
      "2 2 2\n",
      "222\n",
      "6.0\n",
      "4 4 4\n",
      "444\n",
      "12.0\n"
     ]
    }
   ],
   "source": [
    "file = open('out.txt', 'r')\n",
    "\n",
    "for line in file:\n",
    "    x = line.split()[0]\n",
    "    y = line.split()[1]\n",
    "    z = line.split()[2]\n",
    "    print(f'{x} {y} {z}')\n",
    "    print(x+y+z)\n",
    "    print(f'{float(x) + float(y) + float(z)}')\n",
    "file.close()"
   ]
  },
  {
   "cell_type": "markdown",
   "metadata": {},
   "source": [
    "Numerical data (alternative command)\n",
    "-> reading file 'numbers.txt'"
   ]
  },
  {
   "cell_type": "code",
   "execution_count": 8,
   "metadata": {},
   "outputs": [
    {
     "name": "stdout",
     "output_type": "stream",
     "text": [
      "[[1.2 1.3]\n",
      " [1.5 2.5]]\n"
     ]
    }
   ],
   "source": [
    "import numpy as np\n",
    "\n",
    "file = np.loadtxt('numbers.txt')\n",
    "print(file)"
   ]
  },
  {
   "cell_type": "markdown",
   "metadata": {},
   "source": [
    "# Histogram"
   ]
  },
  {
   "cell_type": "code",
   "execution_count": 11,
   "metadata": {},
   "outputs": [
    {
     "data": {
      "image/png": "[encoded data removed]",
      "text/plain": [
       "<Figure size 432x288 with 1 Axes>"
      ]
     },
     "metadata": {
      "needs_background": "light"
     },
     "output_type": "display_data"
    }
   ],
   "source": [
    "import matplotlib.pyplot as plt\n",
    "\n",
    "data = [6, 8, 3, 4, 5, 6, 5, 7, 12, 6, 0, 1, 7, 17, 8, 7, 10, 2, 15, 7, 6, 7, 6, 7, 9, 8]\n",
    "division = [0, 4, 6, 7, 8, 10, 18]\n",
    "\n",
    "plt.hist(data, bins=division, label='data', normed= True)\n",
    "plt.title('Title')\n",
    "plt.xlabel('$x$')\n",
    "plt.ylabel('Density')\n",
    "plt.legend()\n",
    "plt.show()"
   ]
  },
  {
   "cell_type": "code",
   "execution_count": 12,
   "metadata": {},
   "outputs": [
    {
     "name": "stdout",
     "output_type": "stream",
     "text": [
      "254.299066270282 50305.0417954864 224.2878547658932\n"
     ]
    },
    {
     "data": {
      "image/png": "[encoded data removed]",
      "text/plain": [
       "<Figure size 432x288 with 1 Axes>"
      ]
     },
     "metadata": {
      "needs_background": "light"
     },
     "output_type": "display_data"
    }
   ],
   "source": [
    "import matplotlib.pyplot as plt\n",
    "import numpy as np\n",
    "import random\n",
    "\n",
    "data = [random.uniform(0.0, i) for i in range(1000)]\n",
    "print(f'{np.mean(data)} {np.var(data)} {np.std(data)}')\n",
    "\n",
    "plt.hist(data, bins=100, label='data', normed= True)\n",
    "plt.title('Title')\n",
    "plt.xlabel('$x$')\n",
    "plt.ylabel('Density')\n",
    "plt.legend()\n",
    "plt.show()"
   ]
  },
  {
   "cell_type": "code",
   "execution_count": null,
   "metadata": {},
   "outputs": [],
   "source": []
  }
 ],
 "metadata": {
  "kernelspec": {
   "display_name": "Python 3",
   "language": "python",
   "name": "python3"
  },
  "language_info": {
   "codemirror_mode": {
    "name": "ipython",
    "version": 3
   },
   "file_extension": ".py",
   "mimetype": "text/x-python",
   "name": "python",
   "nbconvert_exporter": "python",
   "pygments_lexer": "ipython3",
   "version": "3.7.1"
  }
 },
 "nbformat": 4,
 "nbformat_minor": 2
}
