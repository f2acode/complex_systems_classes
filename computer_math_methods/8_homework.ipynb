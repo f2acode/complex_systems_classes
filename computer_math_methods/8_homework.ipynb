{
 "cells": [
  {
   "cell_type": "markdown",
   "metadata": {},
   "source": [
    "### (Numerical integration - trapezoidal rule) Consider the integral"
   ]
  },
  {
   "cell_type": "code",
   "execution_count": 52,
   "metadata": {},
   "outputs": [],
   "source": [
    "def func(x):\n",
    "    return math.exp(x ** 3) * (x ** 2)"
   ]
  },
  {
   "cell_type": "code",
   "execution_count": 57,
   "metadata": {},
   "outputs": [
    {
     "name": "stdout",
     "output_type": "stream",
     "text": [
      "Resultado analítico: 6.451920140119135e+53\n"
     ]
    }
   ],
   "source": [
    "# pi1 - a\n",
    "import scipy.integrate as integrate\n",
    "import scipy.special as special\n",
    "a, b = 3, 5\n",
    "analytical_result = integrate.quad(func, a, b)[0]\n",
    "\n",
    "print(f'Resultado analítico: {analytical_result}')"
   ]
  },
  {
   "cell_type": "code",
   "execution_count": 58,
   "metadata": {},
   "outputs": [
    {
     "name": "stdout",
     "output_type": "stream",
     "text": [
      "Resultado numérico: 6.454960314983304e+53\n"
     ]
    }
   ],
   "source": [
    "# pi1 - b\n",
    "\n",
    "import math\n",
    "\n",
    "a, b = 3, 5\n",
    "h = 10 ** (-3) # Size of the path\n",
    "sum_ = -( func(a) + func(b) ) / 2.0 # Multiplication by h\n",
    "\n",
    "# in the end\n",
    "while a < b:\n",
    "    sum_ += func(a)\n",
    "    a += h\n",
    "\n",
    "numerical_result = (sum_ + func(b)) * h\n",
    "print(f'Resultado numérico: {numerical_result}')"
   ]
  },
  {
   "cell_type": "code",
   "execution_count": 64,
   "metadata": {},
   "outputs": [
    {
     "name": "stdout",
     "output_type": "stream",
     "text": [
      "Resultado 10^-2: 1.159202099443624e+54 - \n",
      "Diff 10^-3: 5.137060679452937e+53\n",
      "\n",
      "Resultado 10^-4: 1.159202099443624e+54 - \n",
      "Diff 10^-3: 4.537963073910725e+51\n"
     ]
    }
   ],
   "source": [
    "# pi1 - d\n",
    "import math\n",
    "\n",
    "a, b = 3, 5\n",
    "h = 10 ** (-2)\n",
    "sum_ = -( func(a) + func(b) ) / 2.0\n",
    "\n",
    "# in the end\n",
    "while a < b:\n",
    "    sum_ += func(a)\n",
    "    a += h\n",
    "\n",
    "numerical_result_2 = (sum_ + func(b)) * h\n",
    "print(f'Resultado 10^-2: {numerical_result_2} - \\nDiff 10^-3: {numerical_result_2-numerical_result}\\n')\n",
    "\n",
    "a, b = 3, 5\n",
    "h = 10 ** (-4) # Size of the path\n",
    "sum_ = -( func(a) + func(b) ) / 2.0 # Multiplication by h\n",
    "\n",
    "# in the end\n",
    "while a < b:\n",
    "    sum_ += func(a)\n",
    "    a += h\n",
    "\n",
    "numerical_result_4 = (sum_ + func(b)) * h\n",
    "print(f'Resultado 10^-4: {numerical_result_2} - \\nDiff 10^-3: {numerical_result_4-numerical_result}')"
   ]
  }
 ],
 "metadata": {
  "kernelspec": {
   "display_name": "Python 3",
   "language": "python",
   "name": "python3"
  },
  "language_info": {
   "codemirror_mode": {
    "name": "ipython",
    "version": 3
   },
   "file_extension": ".py",
   "mimetype": "text/x-python",
   "name": "python",
   "nbconvert_exporter": "python",
   "pygments_lexer": "ipython3",
   "version": "3.7.1"
  }
 },
 "nbformat": 4,
 "nbformat_minor": 2
}
