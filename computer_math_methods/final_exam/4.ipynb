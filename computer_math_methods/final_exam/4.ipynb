{
 "cells": [
  {
   "cell_type": "code",
   "execution_count": 37,
   "metadata": {},
   "outputs": [
    {
     "data": {
      "image/png": "[encoded data removed]",
      "text/plain": [
       "<Figure size 432x288 with 1 Axes>"
      ]
     },
     "metadata": {
      "needs_background": "light"
     },
     "output_type": "display_data"
    }
   ],
   "source": [
    "import numpy as np\n",
    "import random\n",
    "import matplotlib.pyplot as plt\n",
    "\n",
    "# (i) and (ii)\n",
    "def run(L, T, R, title):\n",
    "    voters, m_values, t_values, m_means = np.zeros((L, L)), [], np.arange(T), np.zeros(T)\n",
    "\n",
    "    # (iii) and (iv)            \n",
    "    def m():\n",
    "        total = voters.sum()\n",
    "        return (1 / L ** 2) * total\n",
    "\n",
    "    # (v)\n",
    "    for i in range(L):\n",
    "        for j in range(L):\n",
    "            r = random.uniform(0.0, 1.0)\n",
    "            if r < 0.15:\n",
    "                voters[i][j] = -1\n",
    "            else:\n",
    "                voters[i][j] = 1\n",
    "\n",
    "    # (vi)\n",
    "    def vi():\n",
    "        return random.uniform(0.0, 1.0)\n",
    "\n",
    "    # (vii)\n",
    "    def vii():\n",
    "        nonlocal voters\n",
    "        # creates a new voters array to avoid checks of corners\n",
    "        new_voters = np.insert(voters, 0, voters[len(voters)-1], 0)\n",
    "        new_voters = np.insert(new_voters, len(voters)-1, voters[0], 0)\n",
    "        new_voters = np.insert(new_voters, len(voters)-1, voters[0][0], 1)\n",
    "        new_voters = np.insert(new_voters, 0, voters[len(voters)-1][len(voters)-1], 1)\n",
    "        for i in range(L):\n",
    "            for j in range(L):\n",
    "        #i = random.randint(0, L-1)\n",
    "        #j = random.randint(0, L-1)\n",
    "                r = vi()\n",
    "                if r <= 0.25:\n",
    "                    voters[i][j] = new_voters[i][j-1]\n",
    "                elif r > 0.25 and r <= 0.50:\n",
    "                    voters[i][j] = new_voters[i][j+1]\n",
    "                elif r > 0.50 and r <= 0.75:\n",
    "                    voters[i][j] = new_voters[i+1][j]\n",
    "                elif r > 0.75 and r <= 1:\n",
    "                    voters[i][j] = new_voters[i-1][j]\n",
    "\n",
    "    # (viii)\n",
    "    def viii():\n",
    "        nonlocal m_means\n",
    "        for i in range(T):\n",
    "            vii()\n",
    "            m_value = m() # (ix)\n",
    "            m_values.append(m_value) # (x)\n",
    "\n",
    "            m_means[i] += m_values[i]\n",
    "\n",
    "    # (xi)\n",
    "    def xi():\n",
    "        nonlocal m_means\n",
    "        for i in range(R):\n",
    "            viii()\n",
    "        m_means = m_means/R\n",
    "\n",
    "    xi()\n",
    "\n",
    "    plt.plot(t_values, m_means)\n",
    "    plt.xlabel('$t$')\n",
    "    plt.ylabel('m_means')\n",
    "    plt.ylim(-1, 1)\n",
    "    plt.title(title)\n",
    "    \n",
    "L, T, R = 100, 100, 5\n",
    "run(L, T, R, 'Two-dimensional Voter model - R = 5')\n",
    "\n",
    "L, T, R = 100, 100, 50\n",
    "run(L, T, R, 'Two-dimensional Voter model - R = 50')\n",
    "\n",
    "L, T, R = 100, 100, 500\n",
    "run(L, T, R, 'Two-dimensional Voter model - R = 500')\n",
    "\n",
    "plt.show()"
   ]
  },
  {
   "cell_type": "code",
   "execution_count": null,
   "metadata": {},
   "outputs": [],
   "source": []
  }
 ],
 "metadata": {
  "kernelspec": {
   "display_name": "Python 3",
   "language": "python",
   "name": "python3"
  },
  "language_info": {
   "codemirror_mode": {
    "name": "ipython",
    "version": 3
   },
   "file_extension": ".py",
   "mimetype": "text/x-python",
   "name": "python",
   "nbconvert_exporter": "python",
   "pygments_lexer": "ipython3",
   "version": "3.7.3"
  }
 },
 "nbformat": 4,
 "nbformat_minor": 2
}
