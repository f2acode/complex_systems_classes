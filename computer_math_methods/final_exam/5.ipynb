{
 "cells": [
  {
   "cell_type": "markdown",
   "metadata": {},
   "source": [
    "Diagrama de fase\n",
    "\n",
    "Para $$(7, -2) \\rightarrow \\begin{bmatrix} y & x-7 \\\\ -1 & 2y \\end{bmatrix} = \\begin{bmatrix} -2 & 0 \\\\ -1 & -4 \\end{bmatrix}$$"
   ]
  },
  {
   "cell_type": "markdown",
   "metadata": {},
   "source": [
    "Inclinação exo\n",
    "\n",
    "$$(\\dot{x} = 0) = \\frac{-a_{11}}{a_{12}} = -(\\frac{-2}{0}) = 0$$\n",
    "\n",
    "$$(\\dot{y} = 0) = \\frac{-a_{21}}{a_{22}} = -(\\frac{-1}{-4}) = \\frac{-1}{4}$$"
   ]
  },
  {
   "cell_type": "markdown",
   "metadata": {},
   "source": [
    "Para $$(3, 0) \\rightarrow \\begin{bmatrix} y & x-7 \\\\ -1 & 2y\\end{bmatrix} = \\begin{bmatrix} 0 & -4 \\\\ -1 & 0 \\end{bmatrix}$$\n",
    "\n",
    "$$(\\dot{x} = 0) = \\frac{-a_{11}}{a_{12}} = \\frac{0}{-4} = 0$$\n",
    "\n",
    "$$(\\dot{y} = 0) = \\frac{-a_{21}}{a_{22}} = \\frac{-1}{0} = 0$$"
   ]
  },
  {
   "cell_type": "markdown",
   "metadata": {},
   "source": [
    "Para $$(7, 2) \\rightarrow \\begin{bmatrix} y & x-7 \\\\ -1 & 2y \\end{bmatrix} = \\begin{bmatrix} 2 & 0 \\\\ -1 & 4 \\end{bmatrix}$$\n",
    "\n",
    "$$\\dot{x} = 0, \\frac{-a_{11}}{a_{12}} = 0$$\n",
    "\n",
    "$$\\dot{y} = 0, \\frac{-a_{21}}{a_{22}} = -\\frac{-1}{4} = \\frac{1}{4}$$"
   ]
  },
  {
   "cell_type": "code",
   "execution_count": null,
   "metadata": {},
   "outputs": [],
   "source": []
  }
 ],
 "metadata": {
  "kernelspec": {
   "display_name": "Python 3",
   "language": "python",
   "name": "python3"
  },
  "language_info": {
   "codemirror_mode": {
    "name": "ipython",
    "version": 3
   },
   "file_extension": ".py",
   "mimetype": "text/x-python",
   "name": "python",
   "nbconvert_exporter": "python",
   "pygments_lexer": "ipython3",
   "version": "3.7.1"
  }
 },
 "nbformat": 4,
 "nbformat_minor": 2
}
