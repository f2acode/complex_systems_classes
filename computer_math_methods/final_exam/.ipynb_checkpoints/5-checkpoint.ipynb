{
 "cells": [
  {
   "cell_type": "markdown",
   "metadata": {},
   "source": [
    "$$\\dot{x} = xy - 7y$$"
   ]
  },
  {
   "cell_type": "markdown",
   "metadata": {},
   "source": [
    "$$\\dot{y} = -x + y^2 + 3$$"
   ]
  },
  {
   "cell_type": "markdown",
   "metadata": {},
   "source": [
    "$$\\dot{x} = f(x, y) \\rightarrow f(x) = xy - 7y$$"
   ]
  },
  {
   "cell_type": "markdown",
   "metadata": {},
   "source": [
    "$$\\dot{y} = g(x, y) \\rightarrow g(x) = -x + y^2 + 3$$"
   ]
  },
  {
   "cell_type": "markdown",
   "metadata": {},
   "source": [
    "$$\\frac{d}{dt}(\\frac{x}{y}) = J(\\dot{x}, \\dot{y}) \\text{, onde } J(x, y) = \\begin{bmatrix} \\frac{\\delta f}{\\delta x} & \\frac{\\delta f}{\\delta y} \\\\ \\frac{\\delta g}{\\delta x} & \\frac{\\delta g}{\\delta y} \\end{bmatrix}$$"
   ]
  },
  {
   "cell_type": "markdown",
   "metadata": {},
   "source": [
    "$$\\frac{\\delta f}{\\delta x} = xy - 7y - y$$"
   ]
  },
  {
   "cell_type": "markdown",
   "metadata": {},
   "source": [
    "$$\\frac{\\delta f}{\\delta y} = x -7$$"
   ]
  },
  {
   "cell_type": "markdown",
   "metadata": {},
   "source": [
    "$$\\frac{\\delta g}{\\delta x} = -x + y^2+3 = -1$$"
   ]
  },
  {
   "cell_type": "markdown",
   "metadata": {},
   "source": [
    "$$\\frac{\\delta g}{\\delta y} = -x + y^2+3 = 2y$$"
   ]
  },
  {
   "cell_type": "markdown",
   "metadata": {},
   "source": [
    "$$\\begin{bmatrix} y & x-7 \\\\ -1 & 2y \\end{bmatrix}$$"
   ]
  },
  {
   "cell_type": "markdown",
   "metadata": {},
   "source": [
    "$$xy - 7y = 0$$"
   ]
  },
  {
   "cell_type": "markdown",
   "metadata": {},
   "source": [
    "$$y(x-7) = 0$$"
   ]
  },
  {
   "cell_type": "markdown",
   "metadata": {},
   "source": [
    "$$\\boxed{x = 7}$$"
   ]
  },
  {
   "cell_type": "markdown",
   "metadata": {},
   "source": [
    "$$-x + y^2 + 3$$"
   ]
  },
  {
   "cell_type": "markdown",
   "metadata": {},
   "source": [
    "$$-7 + y^2 + 3 = 0$$"
   ]
  },
  {
   "cell_type": "markdown",
   "metadata": {},
   "source": [
    "$$y^2 = 4$$"
   ]
  },
  {
   "cell_type": "markdown",
   "metadata": {},
   "source": [
    "$$\\boxed{y = -2, y=2}$$"
   ]
  },
  {
   "cell_type": "markdown",
   "metadata": {},
   "source": [
    "$$y = 0$$\n",
    "\n",
    "$$-x + 0^2 + 3$$\n",
    "\n",
    "$$x = 3$$"
   ]
  },
  {
   "cell_type": "markdown",
   "metadata": {},
   "source": [
    "$$x = 3, y = 0$$\n",
    "\n",
    "$$x = 7, y = -2$$\n",
    "\n",
    "$$x = 7, y = 2$$"
   ]
  },
  {
   "cell_type": "markdown",
   "metadata": {},
   "source": [
    "$$\\text{Comparando banço com os determinantes jacobianos }$$"
   ]
  },
  {
   "cell_type": "markdown",
   "metadata": {},
   "source": [
    "$$x = 3, y = 0$$\n",
    "\n",
    "$$\\begin{bmatrix} y & x-7 \\\\ -1 & 2y\\end{bmatrix} = \\begin{bmatrix} 0 & 3-7 \\\\ -1 & 0\\end{bmatrix} = \\begin{bmatrix} 0 & -4 \\\\ -1 & 0\\end{bmatrix} = \\boxed{-4} \\rightarrow \\text{Ponto de sela}$$"
   ]
  },
  {
   "cell_type": "markdown",
   "metadata": {},
   "source": [
    "$$x = 7, y = -2$$\n",
    "\n",
    "$$\\begin{bmatrix} -2 & 0 \\\\ -1 & -4\\end{bmatrix} = 0 \\rightarrow t0 = -6 \\rightarrow \\text{nó estável}$$"
   ]
  },
  {
   "cell_type": "markdown",
   "metadata": {},
   "source": [
    "$$\\text{Sinal de } |J_e| \\rightarrow +$$\n",
    "\n",
    "$$\\text{Sinal de t0} |J_e| \\rightarrow -$$\n",
    "\n",
    "$$\\text{Tipo de equilíbrio } \\rightarrow \\text{nó estável}$$"
   ]
  },
  {
   "cell_type": "markdown",
   "metadata": {},
   "source": [
    "$$x = 7, y = 2$$\n",
    "\n",
    "$$\\begin{bmatrix} y & x-7 \\\\ -1 & 2y\\end{bmatrix} = \\begin{bmatrix} 2 & 0 \\\\ -1 & 2*2\\end{bmatrix} = \\begin{bmatrix} 2 & 0 \\\\ -1 & 4\\end{bmatrix} = \\boxed{8}$$"
   ]
  },
  {
   "cell_type": "markdown",
   "metadata": {},
   "source": [
    "$$\\text{Sinal de } |J_e| \\rightarrow +$$\n",
    "\n",
    "$$\\text{Sinal de t0} |J_e| \\rightarrow +$$\n",
    "\n",
    "$$\\text{Tipo de equilíbrio } \\rightarrow \\text{nó instável}$$"
   ]
  },
  {
   "cell_type": "markdown",
   "metadata": {},
   "source": [
    "$$\\text{Diagrama de fase}$$\n",
    "\n",
    "$$\\text{Para }(7, -2) \\rightarrow \\begin{bmatrix} y & x-7 \\\\ -1 & 2y \\end{bmatrix} = \\begin{bmatrix} -2 & 0 \\\\ -1 & -4 \\end{bmatrix}$$"
   ]
  },
  {
   "cell_type": "markdown",
   "metadata": {},
   "source": [
    "$$\\text{Inclinação exo}$$\n",
    "\n",
    "$$(\\dot{x} = 0) = \\frac{-a_{11}}{a_{12}} = -(\\frac{-2}{0}) = 0$$\n",
    "\n",
    "$$(\\dot{y} = 0) = \\frac{-a_{21}}{a_{22}} = -(\\frac{-1}{-4}) = \\frac{-1}{4}$$"
   ]
  },
  {
   "cell_type": "markdown",
   "metadata": {},
   "source": [
    "$$\\text{Para }(3, 0) \\rightarrow \\begin{bmatrix} y & x-7 \\\\ -1 & 2y\\end{bmatrix} = \\begin{bmatrix} 0 & -4 \\\\ -1 & 0 \\end{bmatrix}$$\n",
    "\n",
    "$$(\\dot{x} = 0) = \\frac{-a_{11}}{a_{12}} = \\frac{0}{-4} = 0$$\n",
    "\n",
    "$$(\\dot{y} = 0) = \\frac{-a_{21}}{a_{22}} = \\frac{-1}{0} = 0$$"
   ]
  },
  {
   "cell_type": "markdown",
   "metadata": {},
   "source": [
    "$$\\text{Para }(7, 2) \\rightarrow \\begin{bmatrix} y & x-7 \\\\ -1 & 2y \\end{bmatrix} = \\begin{bmatrix} 2 & 0 \\\\ -1 & 4 \\end{bmatrix}$$\n",
    "\n",
    "$$\\dot{x} = 0, \\frac{-a_{11}}{a_{12}} = 0$$\n",
    "\n",
    "$$\\dot{y} = 0, \\frac{-a_{21}}{a_{22}} = -\\frac{-1}{4} = \\frac{1}{4}$$"
   ]
  },
  {
   "cell_type": "code",
   "execution_count": null,
   "metadata": {},
   "outputs": [],
   "source": []
  }
 ],
 "metadata": {
  "kernelspec": {
   "display_name": "Python 3",
   "language": "python",
   "name": "python3"
  },
  "language_info": {
   "codemirror_mode": {
    "name": "ipython",
    "version": 3
   },
   "file_extension": ".py",
   "mimetype": "text/x-python",
   "name": "python",
   "nbconvert_exporter": "python",
   "pygments_lexer": "ipython3",
   "version": "3.7.3"
  }
 },
 "nbformat": 4,
 "nbformat_minor": 2
}
