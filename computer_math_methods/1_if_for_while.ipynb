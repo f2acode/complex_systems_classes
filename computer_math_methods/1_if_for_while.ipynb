{
 "cells": [
  {
   "cell_type": "code",
   "execution_count": 39,
   "metadata": {},
   "outputs": [
    {
     "name": "stdout",
     "output_type": "stream",
     "text": [
      "hello world\n"
     ]
    }
   ],
   "source": [
    "# print \n",
    "print('hello world')"
   ]
  },
  {
   "cell_type": "code",
   "execution_count": 40,
   "metadata": {},
   "outputs": [
    {
     "name": "stdout",
     "output_type": "stream",
     "text": [
      "higher\n"
     ]
    }
   ],
   "source": [
    "# conditional\n",
    "a = 1\n",
    "if a > 0:\n",
    "    print('higher')"
   ]
  },
  {
   "cell_type": "code",
   "execution_count": 41,
   "metadata": {},
   "outputs": [
    {
     "name": "stdout",
     "output_type": "stream",
     "text": [
      "index: 2\n",
      "index: 3\n",
      "index: 4\n"
     ]
    }
   ],
   "source": [
    "# loop for\n",
    "for i in range(2, 5):\n",
    "    print(f'index: {i}')"
   ]
  },
  {
   "cell_type": "code",
   "execution_count": 45,
   "metadata": {},
   "outputs": [
    {
     "name": "stdout",
     "output_type": "stream",
     "text": [
      "AA\n",
      "AA\n",
      "AA\n",
      "AA\n"
     ]
    }
   ],
   "source": [
    "# while\n",
    "i = 0\n",
    "while i < 4:\n",
    "    print('AA')\n",
    "    i += 1"
   ]
  },
  {
   "cell_type": "code",
   "execution_count": 46,
   "metadata": {},
   "outputs": [
    {
     "name": "stdout",
     "output_type": "stream",
     "text": [
      "1 1\n",
      "1 2\n",
      "2 1\n",
      "2 2\n"
     ]
    }
   ],
   "source": [
    "# example with both\n",
    "i = 0\n",
    "while i < 2:\n",
    "    for j in range(2):\n",
    "        print(f'{i+1} {j+1}')\n",
    "    i += 1"
   ]
  },
  {
   "cell_type": "code",
   "execution_count": 47,
   "metadata": {},
   "outputs": [
    {
     "name": "stdout",
     "output_type": "stream",
     "text": [
      "2 2\n",
      "4 8\n",
      "6 48\n",
      "8 384\n",
      "384\n"
     ]
    }
   ],
   "source": [
    "# double factorial\n",
    "i = 0\n",
    "product = 1\n",
    "while i < 8:\n",
    "    i += 2\n",
    "    product *= i\n",
    "    print(f'{i} {product}')\n",
    "print(product)"
   ]
  },
  {
   "cell_type": "code",
   "execution_count": 50,
   "metadata": {},
   "outputs": [
    {
     "name": "stdout",
     "output_type": "stream",
     "text": [
      "0 0\n",
      "2 0\n",
      "4 0\n",
      "6 0\n",
      "0\n"
     ]
    }
   ],
   "source": [
    "# double factorial in function\n",
    "def discoverDoubleFactorial(n):\n",
    "    product = 1\n",
    "    for i in range(0, n, 2):\n",
    "        product *= i\n",
    "        print(f'{i} {product}')\n",
    "    print(product)\n",
    "    \n",
    "discoverDoubleFactorial(8)"
   ]
  },
  {
   "cell_type": "code",
   "execution_count": null,
   "metadata": {},
   "outputs": [],
   "source": []
  }
 ],
 "metadata": {
  "kernelspec": {
   "display_name": "Python 3",
   "language": "python",
   "name": "python3"
  },
  "language_info": {
   "codemirror_mode": {
    "name": "ipython",
    "version": 3
   },
   "file_extension": ".py",
   "mimetype": "text/x-python",
   "name": "python",
   "nbconvert_exporter": "python",
   "pygments_lexer": "ipython3",
   "version": "3.7.1"
  }
 },
 "nbformat": 4,
 "nbformat_minor": 2
}
