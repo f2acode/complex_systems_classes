{
 "cells": [
  {
   "cell_type": "markdown",
   "metadata": {},
   "source": [
    "### Updating variables\n",
    "\n",
    "<img style=\"float: right\" src=\"img/1d.png\" alt=\"title\" >\n",
    "\n",
    "One-dimensional random walk"
   ]
  },
  {
   "cell_type": "code",
   "execution_count": 2,
   "metadata": {},
   "outputs": [
    {
     "name": "stdout",
     "output_type": "stream",
     "text": [
      "Total number of paths: 5\n",
      "Time: 0 position: 0\n",
      "Time: 1 Position: -1.0\n",
      "Time: 2 Position: 0.0\n",
      "Time: 3 Position: 1.0\n",
      "Time: 4 Position: 2.0\n",
      "Time: 5 Position: 1.0\n"
     ]
    }
   ],
   "source": [
    "import random\n",
    "\n",
    "N = int(input('Total number of paths: '))\n",
    "x0 = 0 #Initial position\n",
    "print(f'Time: 0 position: {x0}')\n",
    "\n",
    "for i in range(N):\n",
    "    x1 = x0 + random.choice([-1.0, 1.0]) # displacement\n",
    "    x0 = x1 # update\n",
    "    print(f'Time: {i + 1} Position: {x0}')"
   ]
  },
  {
   "cell_type": "markdown",
   "metadata": {},
   "source": [
    "### Random walk (1D) - first passage\n",
    "\n",
    "<img style=\"float: right\" src=\"img/1d.png\" alt=\"title\" >\n",
    "\n",
    "Use of **functions**\n"
   ]
  },
  {
   "cell_type": "markdown",
   "metadata": {},
   "source": [
    "Version 1: just displaces a number in 1D"
   ]
  },
  {
   "cell_type": "code",
   "execution_count": 4,
   "metadata": {},
   "outputs": [
    {
     "name": "stdout",
     "output_type": "stream",
     "text": [
      "Initial position:5\n",
      "New position: 4\n"
     ]
    }
   ],
   "source": [
    "import random\n",
    "\n",
    "def walk1D(z):\n",
    "    r = random.randint(0, 1)\n",
    "    if r == 0:\n",
    "        z = z + 1\n",
    "    else:\n",
    "        z = z -1\n",
    "    return z\n",
    "\n",
    "x0 = int(input('Initial position:'))\n",
    "xnew = walk1D(x0) # next position\n",
    "print(f'New position: {xnew}')"
   ]
  },
  {
   "cell_type": "markdown",
   "metadata": {},
   "source": [
    "Version 2: checks the recurrence of "
   ]
  },
  {
   "cell_type": "code",
   "execution_count": 16,
   "metadata": {},
   "outputs": [
    {
     "name": "stdout",
     "output_type": "stream",
     "text": [
      "Number of paths:2\n",
      "1.0\n",
      "2.0\n",
      "No recurrence.\n"
     ]
    }
   ],
   "source": [
    "import random\n",
    "\n",
    "def walk1D(z):\n",
    "    r = random.randint(0, 1)\n",
    "    if r == 0:\n",
    "        z = z + 1\n",
    "    else:\n",
    "        z = z -1\n",
    "    return z\n",
    "\n",
    "N = int(input('Number of paths:'))\n",
    "x0 = 0.0 # initial position\n",
    "hit = 0 # return indicator\n",
    "\n",
    "for i in range(N):\n",
    "    x1 = walk1D(x0) # displacement\n",
    "    x0 = x1 # update\n",
    "    if abs(x0) < 1.0:\n",
    "        hit = 1\n",
    "        break\n",
    "\n",
    "if hit == 0:\n",
    "    print('No recurrence.')\n",
    "else:\n",
    "    print('Recurrence.')"
   ]
  },
  {
   "cell_type": "code",
   "execution_count": null,
   "metadata": {},
   "outputs": [],
   "source": []
  }
 ],
 "metadata": {
  "kernelspec": {
   "display_name": "Python 3",
   "language": "python",
   "name": "python3"
  },
  "language_info": {
   "codemirror_mode": {
    "name": "ipython",
    "version": 3
   },
   "file_extension": ".py",
   "mimetype": "text/x-python",
   "name": "python",
   "nbconvert_exporter": "python",
   "pygments_lexer": "ipython3",
   "version": "3.7.1"
  }
 },
 "nbformat": 4,
 "nbformat_minor": 2
}
