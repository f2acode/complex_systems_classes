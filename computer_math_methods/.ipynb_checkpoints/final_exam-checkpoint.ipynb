{
 "cells": [
  {
   "cell_type": "code",
   "execution_count": 255,
   "metadata": {},
   "outputs": [
    {
     "data": {
      "text/plain": [
       "(-1, 1)"
      ]
     },
     "execution_count": 255,
     "metadata": {},
     "output_type": "execute_result"
    },
    {
     "data": {
      "image/png": "[encoded data removed]",
      "text/plain": [
       "<Figure size 432x288 with 1 Axes>"
      ]
     },
     "metadata": {
      "needs_background": "light"
     },
     "output_type": "display_data"
    }
   ],
   "source": [
    "'''\n",
    "4) (Two-dimensional Voter model) Write a Python code for the two-dimensional voter model according\n",
    "to the following prescription. Remark: this code presents an intuitive sequence of paths, but does not\n",
    "constitute necessarily an efficient program.\n",
    "'''\n",
    "import numpy as np\n",
    "import random\n",
    "import matplotlib.pyplot as plt\n",
    "\n",
    "# (i) and (ii)\n",
    "L, T, R = 100, 100, 500\n",
    "voters, m_values = np.zeros((L, L)), []\n",
    "\n",
    "# creates a new voters array to avoid checks of corners\n",
    "new_voters = np.insert(voters, 0, voters[len(voters)-1], 0)\n",
    "new_voters = np.insert(new_voters, len(voters)-1, voters[0], 0)\n",
    "new_voters = np.insert(new_voters, len(voters)-1, voters[0][0], 1)\n",
    "new_voters = np.insert(new_voters, 0, voters[len(voters)-1][len(voters)-1], 1)\n",
    "\n",
    "# (iii) and (iv)            \n",
    "def m():\n",
    "    total = voters.sum()\n",
    "    return (1 / L ** 2) * total\n",
    "\n",
    "# (v)\n",
    "for i in range(L):\n",
    "    for j in range(L):\n",
    "        r = random.uniform(0.0, 1.0)\n",
    "        if r < 0.7:\n",
    "            voters[i] = -1\n",
    "        else:\n",
    "            voters[i] = 1\n",
    "\n",
    "# (vi) and (vii)\n",
    "def vii():\n",
    "    for i in range(L):\n",
    "        for j in range(L):\n",
    "            r = random.uniform(0.0, 1.0)\n",
    "            if r <= 0.25:\n",
    "                voters[i][j] = new_voters[i][j-1]\n",
    "            elif r > 0.25 and r <= 0.50:\n",
    "                voters[i][j] = new_voters[i][j+1]\n",
    "            elif r > 0.50 and r <= 0.75:\n",
    "                voters[i][j] = new_voters[i+1][j]\n",
    "            elif r > 0.75 and r <= 1:\n",
    "                voters[i][j] = new_voters[i-1][j]\n",
    "            m_value = m()\n",
    "    m_values.append(m_value)\n",
    "\n",
    "# (vii) and (ix)\n",
    "m_means = np.zeros(T)\n",
    "def t():\n",
    "    global m_means\n",
    "    for i in range(T):\n",
    "        vii()\n",
    "        m_means[i] = m_values[i] + m_means[i]\n",
    "        # making R iterations\n",
    "        if i > 1:\n",
    "            need_to_calc_means = (int(T/R) % i) == 0\n",
    "            if need_to_calc_means:\n",
    "                m_means = m_means/T\n",
    "    \n",
    "# (x)\n",
    "t_values = [i for i in range(T)]\n",
    "\n",
    "# (xi) and (xii)\n",
    "t()\n",
    "    \n",
    "plt.plot(t_values, m_means)\n",
    "plt.xlabel('')\n",
    "plt.ylabel('m_means')\n",
    "plt.ylim(-1, 1)"
   ]
  },
  {
   "cell_type": "code",
   "execution_count": null,
   "metadata": {},
   "outputs": [],
   "source": []
  }
 ],
 "metadata": {
  "kernelspec": {
   "display_name": "Python 3",
   "language": "python",
   "name": "python3"
  },
  "language_info": {
   "codemirror_mode": {
    "name": "ipython",
    "version": 3
   },
   "file_extension": ".py",
   "mimetype": "text/x-python",
   "name": "python",
   "nbconvert_exporter": "python",
   "pygments_lexer": "ipython3",
   "version": "3.7.3"
  }
 },
 "nbformat": 4,
 "nbformat_minor": 2
}
