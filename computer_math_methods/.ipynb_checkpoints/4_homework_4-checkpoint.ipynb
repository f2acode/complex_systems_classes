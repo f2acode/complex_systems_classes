{
 "cells": [
  {
   "cell_type": "code",
   "execution_count": 59,
   "metadata": {},
   "outputs": [
    {
     "name": "stdout",
     "output_type": "stream",
     "text": [
      "Perfect circle area: 28.274333882308138\n",
      "Estimated circle area: 28.26\n"
     ]
    }
   ],
   "source": [
    "# exercise 2\n",
    "import math, random\n",
    "\n",
    "R = 3\n",
    "circleArea = math.pi * R ** 2\n",
    "squareLength = 2 * R\n",
    "squareArea = squareLength * squareLength\n",
    "\n",
    "iterations = 10000\n",
    "hit = 0\n",
    "\n",
    "for i in range(iterations):\n",
    "    x = random.uniform(-R, R)\n",
    "    y = random.uniform(-R, R)\n",
    "    d = math.sqrt(x ** 2 + y ** 2)\n",
    "    if d < R:\n",
    "        hit += 1\n",
    "\n",
    "estimatedCircleArea = hit/iterations * squareArea\n",
    "\n",
    "print(f'Perfect circle area: {circleArea}')\n",
    "print(f'Estimated circle area: {estimatedCircleArea}')"
   ]
  },
  {
   "cell_type": "code",
   "execution_count": 62,
   "metadata": {},
   "outputs": [
    {
     "name": "stdout",
     "output_type": "stream",
     "text": [
      "Perfect ellipse area: 62.83185307179586\n",
      "Estimated ellipse area: 63.032000000000004\n"
     ]
    }
   ],
   "source": [
    "# 3\n",
    "\n",
    "a = 5\n",
    "b = 4\n",
    "ellipseArea = math.pi * a * b\n",
    "rectangleArea = (2 * a) * (2 * b)\n",
    "\n",
    "iterations = 10000\n",
    "hit = 0\n",
    "\n",
    "for i in range(iterations):\n",
    "    x = random.uniform(-a, a)\n",
    "    y = random.uniform(-b, b)\n",
    "    d = (x ** 2/a ** 2) + (y ** 2/ b ** 2)\n",
    "    if d <= 1:\n",
    "        hit += 1\n",
    "    \n",
    "estimatedEllipseArea = hit/iterations * rectangleArea\n",
    "\n",
    "print(f'Perfect ellipse area: {ellipseArea}')\n",
    "print(f'Estimated ellipse area: {estimatedEllipseArea}')"
   ]
  }
 ],
 "metadata": {
  "kernelspec": {
   "display_name": "Python 3",
   "language": "python",
   "name": "python3"
  },
  "language_info": {
   "codemirror_mode": {
    "name": "ipython",
    "version": 3
   },
   "file_extension": ".py",
   "mimetype": "text/x-python",
   "name": "python",
   "nbconvert_exporter": "python",
   "pygments_lexer": "ipython3",
   "version": "3.7.1"
  }
 },
 "nbformat": 4,
 "nbformat_minor": 2
}
