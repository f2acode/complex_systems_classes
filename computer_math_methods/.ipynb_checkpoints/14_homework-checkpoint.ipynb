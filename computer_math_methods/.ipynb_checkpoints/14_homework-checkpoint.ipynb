{
 "cells": [
  {
   "cell_type": "markdown",
   "metadata": {},
   "source": [
    "$7-b)$\n",
    "\n",
    "$$F(x, y) = \\dot{x} = x - 9$$\n",
    "\n",
    "$$G(x, y) = \\dot{y} = x-y^2$$\n",
    "\n",
    "$$J(x, y) = \\begin{bmatrix} \\frac{\\delta f}{\\delta x} & \\frac{\\delta f}{\\delta y} \\\\ \\frac{\\delta g}{\\delta x} & \\frac{\\delta g}{\\delta y}\\end{bmatrix} = \\begin{bmatrix} 1 & 0 \\\\ 1 & -2 \\end{bmatrix}$$\n",
    "\n",
    "$$\\text{Comparando traço com o determinante jacobino}$$\n",
    "\n",
    "$$x = 9\\text{ e } y = 3$$\n",
    "$$\\begin{bmatrix} 1 & 0 \\\\ 1 & -2 * 3 \\end{bmatrix} = \\begin{bmatrix} 1 & 0 \\\\ 1 & -6 \\end{bmatrix} = \\boxed{-6} \\rightarrow \\text{Ponto de sela}$$\n",
    "\n",
    "$$x = 9\\text{ e } y = -3$$\n",
    "$$\\begin{bmatrix} 1 & 0 \\\\ 1 & -2 * (-3) \\end{bmatrix} = \\begin{bmatrix} 1 & 0 \\\\ 1 & 6 \\end{bmatrix} = \\boxed{6}$$\n",
    "\n",
    "$$\\text{Sinal de }|J_e| \\rightarrow +$$\n",
    "$$\\text{Traço de }|J_e| \\rightarrow +$$\n",
    "$$\\text{Tipo de equilíbrio} \\rightarrow \\text{Nó instável}$$"
   ]
  },
  {
   "cell_type": "markdown",
   "metadata": {},
   "source": [
    "$$\\text{Calculo}$$\n",
    "\n",
    "$$x = 9, y = 3 \\text{ (Ponto de sela)}$$\n",
    "\n",
    "$$\\begin{bmatrix} 1 & 0 \\\\ 1 & -6 \\end{bmatrix} =$$\n",
    "\n",
    "$$\\dot{x} = \\frac{-a_{11}}{a_{12}} = 0, \\dot{y} = \\frac{-a_{11}}{a_{21}} = \\frac{1}{6}$$\n",
    "\n",
    "$$x = 9, y = -3 \\text{ (Instável)}$$\n",
    "\n",
    "$$\\begin{bmatrix} 1 & 0 \\\\ 1 & 6 \\end{bmatrix} =$$\n",
    "\n",
    "$$\\dot{x} = \\frac{-a_{11}}{a_{12}} = 0, \\dot{y} = \\frac{-a_{21}}{a_{22}} = \\frac{-1}{6}$$"
   ]
  },
  {
   "cell_type": "markdown",
   "metadata": {},
   "source": [
    "$$\\text{Diagrama de fase}$$\n",
    "$$x=\\frac{1}{2}; y=\\frac{1}{2}$$\n",
    "\n",
    "$$\\begin{bmatrix} 1 & 1 \\\\ 2*\\frac{1}{2} & 2 * \\frac{-1}{2} \\end{bmatrix} =$$\n",
    "\n",
    "$$\\text{Inclinação}$$\n",
    "\n",
    "$$(\\dot{x} = 0) = \\frac{-a_{11}}{a_{12}} = \\frac{-1}{1} = -1$$\n",
    "\n",
    "$$(\\dot{y} = 0) = \\frac{-a_{21}}{a_{22}} = -(\\frac{-1}{1}) = 1$$"
   ]
  },
  {
   "cell_type": "markdown",
   "metadata": {},
   "source": [
    "$7-c)$\n",
    "\n",
    "$$F(x, y) = \\dot{x} = x+y-1$$\n",
    "$$G(x, y) = \\dot{y} = x^2-y^2$$\n",
    "\n",
    "$$J(x, y) = \\begin{bmatrix} \\frac{\\delta f}{\\delta x} & \\frac{\\delta f}{\\delta y} \\\\ \\frac{\\delta g}{\\delta x} & \\frac{\\delta g}{\\delta y}\\end{bmatrix} = \\begin{bmatrix} 1 & 1 \\\\ 2x & -2y \\end{bmatrix}$$\n",
    "\n",
    "$$\\text{Soluções}$$\n",
    "\n",
    "$$x = \\frac{1}{2}, y = \\frac{1}{2}$$\n",
    "\n",
    "$$\\text{Comparando traço com o determinante jacobino}$$\n",
    "\n",
    "$$x = \\frac{1}{2}, y = \\frac{1}{2}$$\n",
    "\n",
    "$$J(x, y) = \\begin{bmatrix} 1 & 1 \\\\ 2*\\frac{1}{2} & -2*\\frac{1}{2} \\end{bmatrix} = \\begin{bmatrix} 1 & 1 \\\\ 1 & -1 \\end{bmatrix} = 1$$\n",
    "\n",
    "$$\\text{Ponto de sela}$$"
   ]
  },
  {
   "cell_type": "markdown",
   "metadata": {},
   "source": [
    "$\\pi2)$"
   ]
  },
  {
   "cell_type": "code",
   "execution_count": 8,
   "metadata": {},
   "outputs": [],
   "source": [
    "import matplotlib.pylab as plt\n",
    "\n",
    "def sis(lambd = 0.3,u = 0.1):\n",
    "    I = .1\n",
    "    S = 1 - I\n",
    "    sus = []\n",
    "    inf = []\n",
    "    \n",
    "    def infection(S, I):\n",
    "        for t in range (0, 100):\n",
    "            S = S - (lambd * S * I) + u * I\n",
    "            I = I + (lambd * S * I) - u * I\n",
    "            sus.append(S)\n",
    "            inf.append(I)\n",
    "    \n",
    "    infection(S, I)\n",
    "    \n",
    "    figure = plt.figure()\n",
    "    figure.canvas.set_window_title('SIS model')\n",
    "    inf_line, =plt.plot(inf, label='I(t)')\n",
    "    sus_line, = plt.plot(sus, label='S(t)')\n",
    "    plt.legend(handles=[inf_line, sus_line])\n",
    "    plt.ticklabel_format(style='sci', axis='y', scilimits=(0,0))\n",
    "    plt.xlabel('T')\n",
    "    plt.ylabel('N')\n",
    "    plt.show()"
   ]
  },
  {
   "cell_type": "code",
   "execution_count": 9,
   "metadata": {},
   "outputs": [
    {
     "data": {
      "image/png": "[encoded data removed]",
      "text/plain": [
       "<Figure size 432x288 with 1 Axes>"
      ]
     },
     "metadata": {
      "needs_background": "light"
     },
     "output_type": "display_data"
    }
   ],
   "source": [
    "sis()"
   ]
  },
  {
   "cell_type": "code",
   "execution_count": 4,
   "metadata": {},
   "outputs": [
    {
     "data": {
      "image/png": "[encoded data removed]",
      "text/plain": [
       "<Figure size 432x288 with 1 Axes>"
      ]
     },
     "metadata": {
      "needs_background": "light"
     },
     "output_type": "display_data"
    }
   ],
   "source": [
    "sis(3, 1)"
   ]
  },
  {
   "cell_type": "code",
   "execution_count": 5,
   "metadata": {},
   "outputs": [
    {
     "data": {
      "image/png": "[encoded data removed]",
      "text/plain": [
       "<Figure size 432x288 with 1 Axes>"
      ]
     },
     "metadata": {
      "needs_background": "light"
     },
     "output_type": "display_data"
    }
   ],
   "source": [
    "sis(0.5,1)"
   ]
  },
  {
   "cell_type": "markdown",
   "metadata": {},
   "source": [
    "As we can see, in the first case, $\\lambda > \\lambda c$, infected people and susceptible people reach the equilibrium point close to each other.\n",
    "\n",
    "In the other case, $\\lambda = 0.3 \\text{ and } u = 0.1$, the infected people surpass of susceptible people.\n",
    "\n",
    "In the second case, while $\\lambda < \\lambda c$, the infected people will reach an equilibrium at zero and disappear, as long as the infection rate is lower than the recover rate."
   ]
  }
 ],
 "metadata": {
  "kernelspec": {
   "display_name": "Python 3",
   "language": "python",
   "name": "python3"
  },
  "language_info": {
   "codemirror_mode": {
    "name": "ipython",
    "version": 3
   },
   "file_extension": ".py",
   "mimetype": "text/x-python",
   "name": "python",
   "nbconvert_exporter": "python",
   "pygments_lexer": "ipython3",
   "version": "3.7.3"
  }
 },
 "nbformat": 4,
 "nbformat_minor": 2
}
