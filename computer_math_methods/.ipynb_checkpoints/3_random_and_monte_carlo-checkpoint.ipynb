{
 "cells": [
  {
   "cell_type": "code",
   "execution_count": 9,
   "metadata": {},
   "outputs": [
    {
     "name": "stdout",
     "output_type": "stream",
     "text": [
      "Head\n"
     ]
    }
   ],
   "source": [
    "import random\n",
    "\n",
    "r = random.uniform(0.0, 1.0)\n",
    "if r > 0.5:\n",
    "    print('Head')\n",
    "else:\n",
    "    print('Tail')"
   ]
  },
  {
   "cell_type": "code",
   "execution_count": 29,
   "metadata": {},
   "outputs": [
    {
     "name": "stdout",
     "output_type": "stream",
     "text": [
      "N: 10\n",
      "Pi: 4.0\n"
     ]
    }
   ],
   "source": [
    "# Monte Carlo simulation\n",
    "# Generator of random points in the interior os square:\n",
    "\n",
    "N = int(input('N: ')) # N = 10000000\n",
    "hit = 0\n",
    "for i in range(N):\n",
    "    x = random.uniform(-1.0, 1.0)\n",
    "    y = random.uniform(-1.0, 1.0)\n",
    "    if x ** 2 + y ** 2 < 1.0: # condition on the points inside the circle\n",
    "        hit += 1\n",
    "        \n",
    "pi_est = 4 * hit / float(N) # pi =aproximadamente 4Nº/N\n",
    "print(f'Pi: {pi_est}')"
   ]
  },
  {
   "cell_type": "code",
   "execution_count": 28,
   "metadata": {},
   "outputs": [],
   "source": [
    "# Verificar estatística de bayes e estatística clássica"
   ]
  },
  {
   "cell_type": "code",
   "execution_count": 36,
   "metadata": {},
   "outputs": [
    {
     "name": "stdout",
     "output_type": "stream",
     "text": [
      "N: 10\n",
      "Area: 4.5\n"
     ]
    }
   ],
   "source": [
    "# Monte Carlo simulation\n",
    "# triangle estimation\n",
    "\n",
    "N = int(input('N: '))\n",
    "hit = 0\n",
    "for i in range(N):\n",
    "    x = random.uniform(0.0, 3.0)\n",
    "    y = random.uniform(0.0, 3.0)\n",
    "    if x > y:\n",
    "        hit += 1\n",
    "        \n",
    "area = 9 * hit / float(N)\n",
    "print(f'Area: {area}')"
   ]
  },
  {
   "cell_type": "code",
   "execution_count": 53,
   "metadata": {},
   "outputs": [
    {
     "name": "stdout",
     "output_type": "stream",
     "text": [
      "Total number of games:10000\n",
      "Chamber 1: 0.1614 Chamber 6: 0.1659\n"
     ]
    }
   ],
   "source": [
    "# Monte Carlo simulation\n",
    "# russian roulette\n",
    "\n",
    "N = int(input('Total number of games:'))\n",
    "c1, c6 = 0, 0\n",
    "for i in range(N):\n",
    "    b = random.randint(1, 6)\n",
    "    if b == 1:\n",
    "        c1 += 1\n",
    "    elif b == 6:\n",
    "        c6 += 1\n",
    "        \n",
    "print(f'Chamber 1: {c1 / float(N)} Chamber 6: {c6 / float(N)}')"
   ]
  }
 ],
 "metadata": {
  "kernelspec": {
   "display_name": "Python 3",
   "language": "python",
   "name": "python3"
  },
  "language_info": {
   "codemirror_mode": {
    "name": "ipython",
    "version": 3
   },
   "file_extension": ".py",
   "mimetype": "text/x-python",
   "name": "python",
   "nbconvert_exporter": "python",
   "pygments_lexer": "ipython3",
   "version": "3.7.1"
  }
 },
 "nbformat": 4,
 "nbformat_minor": 2
}
