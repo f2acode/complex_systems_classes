{
 "cells": [
  {
   "cell_type": "code",
   "execution_count": 22,
   "metadata": {},
   "outputs": [
    {
     "name": "stdout",
     "output_type": "stream",
     "text": [
      "Estimated value of e: 2.7182815255731922 - term n: 10\n",
      "Estimated value of cos 46o: 0.6946583677346642 - term n: 10\n",
      "Estimated golden ratio: 1.6180339631667064\n"
     ]
    }
   ],
   "source": [
    "import math\n",
    "\n",
    "# ex 8\n",
    "def fac(n):\n",
    "    if n == 0:\n",
    "        return 1\n",
    "    return n * fac(n - 1)\n",
    "\n",
    "def def_e_series(x):\n",
    "    i, res = 0, 0\n",
    "    while True:\n",
    "        res += (x ** i)/fac(i)\n",
    "        i += 1\n",
    "        if str(res)[:8] == '2.718281':\n",
    "            break\n",
    "    return print(f'Estimated value of e: {res} - term n: {i}')\n",
    "    \n",
    "def_e_series(1)\n",
    "\n",
    "# ex 9\n",
    "def def_cos_series(x, n):\n",
    "    i, res = 0, 0\n",
    "    signal = 1\n",
    "    \n",
    "    def cosFunction(i, x, signal):\n",
    "        return (1/fac(i)) * (signal * 1/math.sqrt(2)) * ((x - (math.pi/4)) ** i)\n",
    "\n",
    "    while str(res)[:8] != '0.694658':\n",
    "        if i % 4 == 3 or i % 4 == 0:\n",
    "            res += cosFunction(i, x, 1)\n",
    "        else:\n",
    "            res += cosFunction(i, x, -1)\n",
    "        i += 1\n",
    "    return print(f'Estimated value of cos 46o: {res} - term n: {n}')\n",
    "\n",
    "def_cos_series((46 * math.pi)/180, 10)\n",
    "\n",
    "# ex 11\n",
    "def fibo(n):\n",
    "    if n == 0:\n",
    "        return 0\n",
    "    elif n == 1:\n",
    "        return 1\n",
    "    return fibo(n - 1) + fibo(n - 2)\n",
    "        \n",
    "def goldenRation(n):\n",
    "    for i in range(100):\n",
    "        return fibo(n)/ fibo(n-1)\n",
    "    \n",
    "print(f'Estimated golden ratio: {goldenRation(20)}')"
   ]
  }
 ],
 "metadata": {
  "kernelspec": {
   "display_name": "Python 3",
   "language": "python",
   "name": "python3"
  },
  "language_info": {
   "codemirror_mode": {
    "name": "ipython",
    "version": 3
   },
   "file_extension": ".py",
   "mimetype": "text/x-python",
   "name": "python",
   "nbconvert_exporter": "python",
   "pygments_lexer": "ipython3",
   "version": "3.7.1"
  }
 },
 "nbformat": 4,
 "nbformat_minor": 2
}
