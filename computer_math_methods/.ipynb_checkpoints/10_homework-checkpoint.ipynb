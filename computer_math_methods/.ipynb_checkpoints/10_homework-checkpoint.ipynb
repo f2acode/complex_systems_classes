{
 "cells": [
  {
   "cell_type": "code",
   "execution_count": 307,
   "metadata": {},
   "outputs": [
    {
     "data": {
      "image/png": "[encoded data removed]",
      "text/plain": [
       "<Figure size 432x288 with 1 Axes>"
      ]
     },
     "metadata": {},
     "output_type": "display_data"
    }
   ],
   "source": [
    "# pi1\n",
    "import networkx as nx\n",
    "import matplotlib.pyplot as plt\n",
    "import math\n",
    "\n",
    "r = 1\n",
    "N = 60480\n",
    "G = nx.Graph()\n",
    "pos_dict = {}\n",
    "r_custom = range(-N, N)\n",
    "\n",
    "for i in r_custom:\n",
    "    x = i/N\n",
    "    y = math.sqrt(r ** 2 - x ** 2)\n",
    "    \n",
    "    G.add_node(x)\n",
    "    G.add_node(x + 60480)\n",
    "    \n",
    "    pos_dict[x] = [x, y]\n",
    "    pos_dict[x + 60480] = [x, -y]\n",
    "    \n",
    "nx.draw(G, node_size=50, alpha=1.0, node_color='black', with_labels=False, pos=pos_dict)\n",
    "\n",
    "for i in r_custom[N-int(N*0.9):int((N * 2)*0.95)]:\n",
    "    G.add_node(x)\n",
    "    \n",
    "    x = (i/N)\n",
    "    y = math.sqrt(r ** 2 - x ** 2)-0.3\n",
    "\n",
    "    pos_dict[x] = [x, -y]\n",
    "        \n",
    "nx.draw(G, node_size=50, alpha=1.0, node_color='black', pos=pos_dict)\n",
    "\n",
    "x = 0.5\n",
    "y = math.sqrt(r ** 2 - x ** 2)-1.2\n",
    "G.add_node(x)\n",
    "pos_dict[x] = [x, -y]\n",
    "\n",
    "x = -0.5\n",
    "y = math.sqrt(r ** 2 - x ** 2)-1.2\n",
    "G.add_node(x)\n",
    "pos_dict[x] = [x, -y]\n",
    "\n",
    "nx.draw(G, node_size=50, alpha=1.0, node_color='black', pos=pos_dict)\n",
    "\n",
    "plt.show()"
   ]
  }
 ],
 "metadata": {
  "kernelspec": {
   "display_name": "Python 3",
   "language": "python",
   "name": "python3"
  },
  "language_info": {
   "codemirror_mode": {
    "name": "ipython",
    "version": 3
   },
   "file_extension": ".py",
   "mimetype": "text/x-python",
   "name": "python",
   "nbconvert_exporter": "python",
   "pygments_lexer": "ipython3",
   "version": "3.7.1"
  }
 },
 "nbformat": 4,
 "nbformat_minor": 2
}
