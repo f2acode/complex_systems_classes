{
 "cells": [
  {
   "cell_type": "markdown",
   "metadata": {},
   "source": [
    "## Updating variables\n",
    "\n",
    "<img style=\"float: right\" src=\"img/1d.png\" alt=\"title\" >\n",
    "\n",
    "One-dimensional random walk"
   ]
  },
  {
   "cell_type": "code",
   "execution_count": 2,
   "metadata": {},
   "outputs": [
    {
     "name": "stdout",
     "output_type": "stream",
     "text": [
      "Total number of paths: 5\n",
      "Time: 0 position: 0\n",
      "Time: 1 Position: -1.0\n",
      "Time: 2 Position: 0.0\n",
      "Time: 3 Position: 1.0\n",
      "Time: 4 Position: 2.0\n",
      "Time: 5 Position: 1.0\n"
     ]
    }
   ],
   "source": [
    "import random\n",
    "\n",
    "N = int(input('Total number of paths: '))\n",
    "x0 = 0 #Initial position\n",
    "print(f'Time: 0 position: {x0}')\n",
    "\n",
    "for i in range(N):\n",
    "    x1 = x0 + random.choice([-1.0, 1.0]) # displacement\n",
    "    x0 = x1 # update\n",
    "    print(f'Time: {i + 1} Position: {x0}')"
   ]
  },
  {
   "cell_type": "markdown",
   "metadata": {},
   "source": [
    "## Random walk (1D) - first passage\n",
    "\n",
    "<img style=\"float: right\" src=\"img/1d.png\" alt=\"title\" >\n",
    "\n",
    "Use of **functions**\n"
   ]
  },
  {
   "cell_type": "markdown",
   "metadata": {},
   "source": [
    "### Version 1: just displaces a number in 1D"
   ]
  },
  {
   "cell_type": "code",
   "execution_count": 4,
   "metadata": {},
   "outputs": [
    {
     "name": "stdout",
     "output_type": "stream",
     "text": [
      "Initial position:5\n",
      "New position: 4\n"
     ]
    }
   ],
   "source": [
    "import random\n",
    "\n",
    "def walk1D(z):\n",
    "    r = random.randint(0, 1)\n",
    "    if r == 0:\n",
    "        z = z + 1\n",
    "    else:\n",
    "        z = z -1\n",
    "    return z\n",
    "\n",
    "x0 = int(input('Initial position:'))\n",
    "xnew = walk1D(x0) # next position\n",
    "print(f'New position: {xnew}')"
   ]
  },
  {
   "cell_type": "markdown",
   "metadata": {},
   "source": [
    "### Version 2: checks the recurrence with a single run"
   ]
  },
  {
   "cell_type": "code",
   "execution_count": 20,
   "metadata": {},
   "outputs": [
    {
     "name": "stdout",
     "output_type": "stream",
     "text": [
      "Number of paths:2\n",
      "No recurrence.\n"
     ]
    }
   ],
   "source": [
    "import random\n",
    "\n",
    "def walk1D(z):\n",
    "    r = random.randint(0, 1)\n",
    "    if r == 0:\n",
    "        z = z + 1\n",
    "    else:\n",
    "        z = z -1\n",
    "    return z\n",
    "\n",
    "N = int(input('Number of paths:'))\n",
    "x0 = 0.0 # initial position\n",
    "hit = 0 # return indicator\n",
    "\n",
    "for i in range(N):\n",
    "    x1 = walk1D(x0) # displacement\n",
    "    x0 = x1 # update\n",
    "    if abs(x0) < 1.0:\n",
    "        hit = 1\n",
    "        break\n",
    "\n",
    "if hit == 0:\n",
    "    print('No recurrence.')\n",
    "else:\n",
    "    print('Recurrence.')"
   ]
  },
  {
   "cell_type": "markdown",
   "metadata": {},
   "source": [
    "### Version 3: checks the recurrence with a single run"
   ]
  },
  {
   "cell_type": "code",
   "execution_count": 19,
   "metadata": {},
   "outputs": [
    {
     "name": "stdout",
     "output_type": "stream",
     "text": [
      "Number of paths:2\n",
      "Number of runs:2\n",
      "Fraction of recurrence: 0.5\n"
     ]
    }
   ],
   "source": [
    "N = int(input('Number of paths:'))\n",
    "R = int(input('Number of runs:'))\n",
    "\n",
    "summ = 0 # number of recurrences / runs\n",
    "for i in range(R):\n",
    "    x0 = 0.0 # initial position\n",
    "    for j in range(N):\n",
    "        x1 = x0 + random.choice([-1.0, 1.0]) # displacement\n",
    "        x0 = x1 # update\n",
    "        if abs(x0) < 1.0:\n",
    "            summ += 1\n",
    "            break\n",
    "            \n",
    "print(f'Fraction of recurrence: {summ/float(R)}')"
   ]
  },
  {
   "cell_type": "markdown",
   "metadata": {},
   "source": [
    "## Random walk (2D) - first passage\n",
    "\n",
    "<img style=\"float: right\" src=\"img/2d.png\" alt=\"title\" >"
   ]
  },
  {
   "cell_type": "code",
   "execution_count": 23,
   "metadata": {},
   "outputs": [
    {
     "name": "stdout",
     "output_type": "stream",
     "text": [
      "Number of paths:5\n",
      "Number of runs:3\n",
      " Fraction of recurrence: 0.333333\n"
     ]
    }
   ],
   "source": [
    "import random\n",
    "\n",
    "def walk2D(a, b):\n",
    "    r = random.randint(0, 3) #0: r, 1: up, 2: l, 3: down\n",
    "    if r == 0:\n",
    "        a += 1\n",
    "    elif r == 1:\n",
    "        b += 1\n",
    "    elif r == 2:\n",
    "        a -= 1\n",
    "    else:\n",
    "        b -= 1\n",
    "    return a, b # update coordinate\n",
    "\n",
    "N = int(input('Number of paths:'))\n",
    "R = int(input('Number of runs:'))\n",
    "\n",
    "summ = 0 # number of recurrence / runs\n",
    "for i in range(R):\n",
    "    x0, y0 = 0.0, 0.0 # Initial position\n",
    "    for j in range(N):\n",
    "        x1, y1 = walk2D(x0, y0) # Displacement\n",
    "        x0, y0 = x1, y1 # Update\n",
    "        if abs(x0) + abs(y0) < 0.5:\n",
    "            summ += 1\n",
    "            break\n",
    "    \n",
    "print(\" Fraction of recurrence: %f\" %(sum / float(R)) )"
   ]
  },
  {
   "cell_type": "markdown",
   "metadata": {},
   "source": [
    "## Random walk (3D) - first passage\n",
    "\n",
    "<img style=\"float: right\" src=\"img/3d.png\" alt=\"title\" >"
   ]
  },
  {
   "cell_type": "code",
   "execution_count": 27,
   "metadata": {},
   "outputs": [
    {
     "name": "stdout",
     "output_type": "stream",
     "text": [
      "Number pf paths:200\n",
      "Number of runs:200\n",
      " Fraction of recurrence: 0.000000\n"
     ]
    }
   ],
   "source": [
    "import random\n",
    "\n",
    "def walk3D(a, b, c): # Function: argument (a, b, c)\n",
    "    r = random.randint(0, 5) # Draw r from {0,1,2,3,4,5}\n",
    "    if r == 0:               # 0: \"right\"\n",
    "        a += 1               # 1: \"up\"\n",
    "    elif r == 1:             # 2: \"left\"\n",
    "        b += 1               # 3: \"down\"\n",
    "    elif r == 2:             # 4: \"forward\"\n",
    "        a -= 1               # 5: \"backward\"\n",
    "    elif r == 3:\n",
    "        b -= 1\n",
    "    elif r == 4:\n",
    "        c += 1\n",
    "    else:\n",
    "        c -= 1\n",
    "    return a, b, c # Update (coordinate)\n",
    "\n",
    "N = int(input(\"Number pf paths:\"))\n",
    "R = int(input(\"Number of runs:\"))\n",
    "\n",
    "sum = 0\n",
    "for i in range(R):\n",
    "    x0, y0, z0 = 0.0, 0.0, 0.0 # Initial position\n",
    "    for j in range(N):\n",
    "        x1, y1, z1 = walk3D(x0, y0, z0)\n",
    "        x0, y0, z0 = x1, y1, z1\n",
    "        if abs(x0) + abs(y0) + abs(z0) < 0.5:\n",
    "            sum += 1\n",
    "        break\n",
    "print(\" Fraction of recurrence: %f\" %(sum / float(R)) )"
   ]
  },
  {
   "cell_type": "markdown",
   "metadata": {},
   "source": [
    "## Random walk - first passage\n",
    "\n",
    "### Case d = 1: recurrent\n",
    "Recurrence with probability 1\n",
    "\n",
    "### Case d = 2: recurrent\n",
    "Recurrence with probability 1\n",
    "\n",
    "### Case d = 3: transient\n",
    "Escape with positive probability"
   ]
  },
  {
   "cell_type": "markdown",
   "metadata": {},
   "source": [
    "## Zero of functions - bisection method\n",
    "\n",
    "<script type=\"text/x-mathjax-config\">\n",
    "  MathJax.Hub.Config({tex2jax: {inlineMath: [['$','$'], ['\\\\(','\\\\)']]}});\n",
    "</script>\n",
    "<script type=\"text/javascript\"\n",
    "  src=\"http://cdn.mathjax.org/mathjax/latest/MathJax.js?config=TeX-AMS-MML_HTMLorMML\">\n",
    "</script>\n",
    "\n",
    "<body>\n",
    "\n",
    "$f$ continuous in $ [a, b] \\subset {\\rm I\\!R} $\n",
    "\n",
    "$sgn{f(a)} \\ne sgn{f(b)}$\n",
    "\n",
    "There exists (at least one) $ \\xi \\in [a, b]$ such that $ f(\\xi) = 0 $\n",
    "</body>"
   ]
  },
  {
   "cell_type": "markdown",
   "metadata": {},
   "source": [
    "### Example: $ f(x) = x - cosx $"
   ]
  },
  {
   "cell_type": "markdown",
   "metadata": {},
   "source": [
    "**0)** $ I_0 := [a_0, b_0] \\quad a_0 =  -\\frac{\\pi}{2} , b_0 = \\frac{\\pi}{2} $\n",
    "\n",
    "$\\quad f(a_0) < 0 \\quad and \\quad f(b_0) > 0$\n",
    "\n",
    "$\\quad x_0 = \\frac{a_0 + b_0}{2} = 0$\n",
    "\n",
    "$\\quad f(x_0) = 0 - cos0 < 0$\n",
    "\n",
    "$\\quad a_1 = x_0 and b_1 = b_0$\n",
    "\n",
    "<br>\n",
    "\n",
    "**1)** $ I_1 := [a_1, b_1] \\quad a_1 =  -\\frac{\\pi}{2} , b_1 = \\frac{\\pi}{2} $\n",
    "\n",
    "$\\quad f(a_1) < 0 \\quad and \\quad f(b_1) > \\frac{\\pi}{2}$\n",
    "\n",
    "$\\quad x_1 = \\frac{a_1 + b_1}{2} = cos\\frac{\\pi}{4}$\n",
    "\n",
    "$\\quad f(x_1) = cos\\frac{\\pi}{4} - cos\\frac{\\pi}{4} > 0$\n",
    "\n",
    "$\\quad a_2 = x_1 and b_2 = x_1$\n",
    "\n",
    "**2_** $ I_2 := [a_2, b_2] \\quad a_2 =  0, b_2 = \\frac{\\pi}{4} $ ..."
   ]
  },
  {
   "cell_type": "code",
   "execution_count": 34,
   "metadata": {},
   "outputs": [
    {
     "name": "stdout",
     "output_type": "stream",
     "text": [
      "Zero of f: 0.7390851321023699\n"
     ]
    }
   ],
   "source": [
    "import math\n",
    "\n",
    "def f(x):\n",
    "    return x - math.cos(x)\n",
    "\n",
    "epsilon = 10 ** (-6) # Maximum error\n",
    "xin, xout = -math.pi / 2.0, math.pi / 2.0\n",
    "delta = xout - xin\n",
    "\n",
    "while delta > epsilon:\n",
    "    xmean = (xin + xout) / 2.0\n",
    "    if f(xmean) > 0:\n",
    "        xout = xmean\n",
    "    else:\n",
    "        xin = xmean\n",
    "        delta = xout - xin\n",
    "\n",
    "print(f'Zero of f: {xmean}')"
   ]
  },
  {
   "cell_type": "markdown",
   "metadata": {},
   "source": [
    "## Zero of functions - Newton-Raphson method\n",
    "\n",
    "Start at some arbitrary point, then make the derivative to find the next point, and so on, until you find the root.\n",
    "\n",
    "#### Equation of line $r$:\n",
    "\n",
    "$\\quad r: y = f'(x_n)(x - x_n) + f(x_n)$\n",
    "\n",
    "$\\quad (x_{n+1}): f'(x_n) = - \\cfrac{f(x_n)}{x_{n+1}-x_n}$\n",
    "\n",
    "#### Recurrence relation\n",
    "\n",
    "$\\quad x_{n+1} = x_n - \\cfrac{f(x_n)}{f'(x_n)}$\n",
    "\n",
    "### Example: $ x - cosx = 0$\n",
    "\n",
    "$\\quad f(x) := x - cosx$\n",
    "\n",
    "$\\quad f'(x) = 1 + sinx$\n",
    "\n",
    "#### Recurrence relation\n",
    "\n",
    "$\\quad x_{n+1} = R(x_n)$\n",
    "\n",
    "$\\quad R(x_n) := x_n - \\cfrac{f(x_n)}{f'(x_n)}$\n",
    "\n",
    "$\\quad\\quad = \\cfrac{x_n sin x_n + cos x_n}{1 + sin x_n}$"
   ]
  },
  {
   "cell_type": "code",
   "execution_count": 36,
   "metadata": {},
   "outputs": [
    {
     "ename": "SyntaxError",
     "evalue": "unexpected EOF while parsing (<ipython-input-36-a525238a15c9>, line 16)",
     "output_type": "error",
     "traceback": [
      "\u001b[0;36m  File \u001b[0;32m\"<ipython-input-36-a525238a15c9>\"\u001b[0;36m, line \u001b[0;32m16\u001b[0m\n\u001b[0;31m    print(f'Zero: {x0}'\u001b[0m\n\u001b[0m                       ^\u001b[0m\n\u001b[0;31mSyntaxError\u001b[0m\u001b[0;31m:\u001b[0m unexpected EOF while parsing\n"
     ]
    }
   ],
   "source": [
    "import math\n",
    "def R(x):\n",
    "    return (x * math.sin(x) + math.cos(x))/ (1.0 + math.sin(x))\n",
    "\n",
    "epsilon = 10 ** (-6) # Maximum error\n",
    "Nmax = 10 ** 5 # Upper bound for number of iterations\n",
    "n, dif = 1, 1.0\n",
    "x0 = 0.0 # Initial condition\n",
    "\n",
    "while (n < Nmax) and (dif > epsilon):\n",
    "    x1 = R(x0)\n",
    "    dif = abs(x1 - x0)\n",
    "    n += 1\n",
    "    x0 = x1 # Update\n",
    "\n",
    "print(f'Zero: {x0}'"
   ]
  },
  {
   "cell_type": "markdown",
   "metadata": {},
   "source": [
    "### Limitations\n",
    "\n",
    "#### Bisection method\n",
    "- Scan the whole solution set\n",
    "- Determination of $[a_0, b_0]$\n",
    "- etc\n",
    "    \n",
    "#### Newton-Raphson method\n",
    "- Scan the whole solution set\n",
    "- Differenciability of f\n",
    "- Convergence of (f', ...)\n",
    "- Periodic orbits\n",
    "- etc|"
   ]
  },
  {
   "cell_type": "code",
   "execution_count": null,
   "metadata": {},
   "outputs": [],
   "source": []
  }
 ],
 "metadata": {
  "kernelspec": {
   "display_name": "Python 3",
   "language": "python",
   "name": "python3"
  },
  "language_info": {
   "codemirror_mode": {
    "name": "ipython",
    "version": 3
   },
   "file_extension": ".py",
   "mimetype": "text/x-python",
   "name": "python",
   "nbconvert_exporter": "python",
   "pygments_lexer": "ipython3",
   "version": "3.7.1"
  }
 },
 "nbformat": 4,
 "nbformat_minor": 2
}
