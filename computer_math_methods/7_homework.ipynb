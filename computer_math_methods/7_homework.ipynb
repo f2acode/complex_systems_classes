{
 "cells": [
  {
   "cell_type": "code",
   "execution_count": 67,
   "metadata": {},
   "outputs": [
    {
     "name": "stdout",
     "output_type": "stream",
     "text": [
      "Zero of f: 1.75\n"
     ]
    }
   ],
   "source": [
    "# pi 1\n",
    "\n",
    "import math\n",
    "\n",
    "def f(x):\n",
    "    return math.exp(-x) - math.log(x)\n",
    "\n",
    "epsilon = 10 ** (-6) # Maximum error\n",
    "a, b = -4.0, 5.0\n",
    "delta = b - a\n",
    "while delta > epsilon:\n",
    "    xmean = (a + b) / 2.0\n",
    "    xmean = math.fabs(xmean)\n",
    "    if f(xmean) > 0:\n",
    "        b = xmean\n",
    "    else:\n",
    "        a = xmean\n",
    "        delta = b - a\n",
    "\n",
    "print(f'Zero of f: {xmean}')"
   ]
  },
  {
   "cell_type": "code",
   "execution_count": 52,
   "metadata": {},
   "outputs": [
    {
     "name": "stdout",
     "output_type": "stream",
     "text": [
      "Zero of f: 0.5671432688832283\n"
     ]
    }
   ],
   "source": [
    "# pi 2\n",
    "\n",
    "import math\n",
    "\n",
    "def f(x):\n",
    "    return x + math.log(x)\n",
    "\n",
    "epsilon = 10 ** (-6) # Maximum error\n",
    "a, b = -4.0, 5.0\n",
    "delta = b - a\n",
    "while delta > epsilon:\n",
    "    xmean = (a + b) / 2.0\n",
    "    if f(xmean) > 0:\n",
    "        b = xmean\n",
    "    else:\n",
    "        a = xmean\n",
    "        delta = b - a\n",
    "\n",
    "print(f'Zero of f: {xmean}')"
   ]
  },
  {
   "cell_type": "code",
   "execution_count": 79,
   "metadata": {},
   "outputs": [
    {
     "name": "stdout",
     "output_type": "stream",
     "text": [
      "0.0\n",
      "Zero: -1.0\n"
     ]
    }
   ],
   "source": [
    "# pi 3\n",
    "\n",
    "import math\n",
    "def R(x):\n",
    "    print(x)\n",
    "    return 2 * x - math.cos(x)\n",
    "\n",
    "epsilon = 10 ** (-8) # Maximum error\n",
    "Nmax = 10 ** 5 # Upper bound for number of iterations\n",
    "n, dif = 1, 1.0\n",
    "x0 = 0.0 # Initial condition\n",
    "\n",
    "while (n < Nmax) and (dif > epsilon):\n",
    "    x1 = R(x0)\n",
    "    dif = x1 - x0\n",
    "    n += 1\n",
    "    x0 = x1 # Update\n",
    "\n",
    "print(f'Zero: {x0}')"
   ]
  },
  {
   "cell_type": "code",
   "execution_count": 76,
   "metadata": {},
   "outputs": [
    {
     "name": "stdout",
     "output_type": "stream",
     "text": [
      "Zero: -0.7873345337221292\n"
     ]
    }
   ],
   "source": [
    "# pi 4\n",
    "\n",
    "import math\n",
    "def R(x):\n",
    "    return x - math.cos(2 * x)\n",
    "\n",
    "epsilon = 10 ** (-8) # Maximum error\n",
    "Nmax = 10 ** 5 # Upper bound for number of iterations\n",
    "n, dif = 1, 1.0\n",
    "x0 = 0.0 # Initial condition\n",
    "\n",
    "while (n < Nmax) and (dif > epsilon):\n",
    "    x1 = R(x0)\n",
    "    dif = abs(x1 - x0)\n",
    "    n += 1\n",
    "    x0 = x1 # Update\n",
    "\n",
    "print(f'Zero: {x0}')"
   ]
  },
  {
   "cell_type": "code",
   "execution_count": null,
   "metadata": {},
   "outputs": [],
   "source": []
  }
 ],
 "metadata": {
  "kernelspec": {
   "display_name": "Python 3",
   "language": "python",
   "name": "python3"
  },
  "language_info": {
   "codemirror_mode": {
    "name": "ipython",
    "version": 3
   },
   "file_extension": ".py",
   "mimetype": "text/x-python",
   "name": "python",
   "nbconvert_exporter": "python",
   "pygments_lexer": "ipython3",
   "version": "3.7.1"
  }
 },
 "nbformat": 4,
 "nbformat_minor": 2
}
