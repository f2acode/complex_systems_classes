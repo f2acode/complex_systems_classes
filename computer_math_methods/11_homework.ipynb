{
 "cells": [
  {
   "cell_type": "code",
   "execution_count": 9,
   "metadata": {},
   "outputs": [
    {
     "name": "stdout",
     "output_type": "stream",
     "text": [
      "202\n"
     ]
    }
   ],
   "source": [
    "file = open('data-l11-2019.txt', 'r')\n",
    "\n",
    "# 1 acumular a somatória ao quadrado de todos os pontos, para eliminar o sinal\n",
    "# 2 derivar e igualar a zero para minimizar o delta\n",
    "# * como podemos verificar que é um ponto de mínimo e um de máximo?\n",
    "#   como podemos achar o A e o B então não tem como ser a pior reta\n",
    "\n",
    "i = 0\n",
    "for line in file:\n",
    "    i += 1\n",
    "\n",
    "print(i)\n",
    "    \n",
    "file.close()"
   ]
  },
  {
   "cell_type": "code",
   "execution_count": 8,
   "metadata": {},
   "outputs": [],
   "source": [
    "student_file = open('felipe-augusto-de-almeida.txt', 'w')\n",
    "student_file.write(f'{1} {2}')\n",
    "student_file.close()"
   ]
  },
  {
   "cell_type": "code",
   "execution_count": null,
   "metadata": {},
   "outputs": [],
   "source": []
  }
 ],
 "metadata": {
  "kernelspec": {
   "display_name": "Python 3",
   "language": "python",
   "name": "python3"
  },
  "language_info": {
   "codemirror_mode": {
    "name": "ipython",
    "version": 3
   },
   "file_extension": ".py",
   "mimetype": "text/x-python",
   "name": "python",
   "nbconvert_exporter": "python",
   "pygments_lexer": "ipython3",
   "version": "3.7.1"
  }
 },
 "nbformat": 4,
 "nbformat_minor": 2
}
