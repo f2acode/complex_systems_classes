{
 "cells": [
  {
   "cell_type": "code",
   "execution_count": 5,
   "metadata": {
    "scrolled": true
   },
   "outputs": [
    {
     "name": "stdout",
     "output_type": "stream",
     "text": [
      "Ensemble Methods for Causal Effects in Panel Data Settings & 2019 \\\\\n",
      "Unsupervised Ensemble Classification with Dependent Data & 2019 \\\\\n",
      "An identified ensemble within a neocortical circuit encodes essential information for genetically-enhanced visual shape learning & 2019 \\\\\n",
      "Deep Learning-Based Image Segmentation on Multimodal Medical Imaging & 2019 \\\\\n",
      "Combining weather patterns and cycles of population susceptibility to forecast dengue fever epidemic years in Brazil: a dynamic, ensemble learning approach & 2019 \\\\\n",
      "Adaptive Ensemble Learning of Spatiotemporal Processes with Calibrated Predictive Uncertainty: A Bayesian Nonparametric Approach & 2019 \\\\\n",
      "EnsembleCNV: an ensemble machine learning algorithm to identify and genotype copy number variation using SNP array data & 2019 \\\\\n",
      "Ensemble Methods for Causal Effects in Panel Data Settings & 2019 \\\\\n",
      "Machine learning methods for developing precision treatment rules with observational data & 2019 \\\\\n",
      "Multi-Source Ensemble Learning for the Remote Prediction of Parkinson's Disease in the Presence of Source-Wise Missing Data & 2019 \\\\\n",
      "Fusion of multiple indicators with ensemble incremental learning techniques for stock price forecasting & 2019 \\\\\n",
      "Diversity with Cooperation: Ensemble Methods for Few-Shot Classification & 2019 \\\\\n",
      "Maximizing diversity by transformed ensemble learning & 2019 \\\\\n",
      "Computational Prediction of Drug-Target Interactions via Ensemble Learning & 2019 \\\\\n",
      "NAPEL & 2019 \\\\\n",
      "Downscaling SMAP Radiometer Soil Moisture Over the CONUS Using an Ensemble Learning Method & 2019 \\\\\n",
      "Prediction of Taxi Destinations Using a Novel Data Embedding Method and Ensemble Learning & 2019 \\\\\n",
      "Ensemble Deep Manifold Similarity Learning using Hard Proxies & 1 \\\\\n",
      "Ensemble learning regression for estimating river discharges using satellite altimetry data: Central Congo River as a Test-bed & 2019 \\\\\n",
      "Integration of deep feature extraction and ensemble learning for outlier detection & 2019 \\\\\n",
      "Targeting customers for profit: An ensemble learning framework to support marketing decision-making & 2019 \\\\\n",
      "Towards artificial intelligence in mental health by improving schizophrenia prediction with multiple brain parcellation ensemble-learning & 2019 \\\\\n",
      "Multiple-Swarm Ensembles: Improving the Predictive Power and Robustness of Predictive Models and Its Use in Computational Biology & 2018 \\\\\n",
      "Blind Multiclass Ensemble Classification & 2018 \\\\\n",
      "A deep learning-based multi-model ensemble method for cancer prediction & 2018 \\\\\n",
      "EnsembleCNV: an ensemble machine learning algorithm to identify and genotype copy number variation using SNP array data & 2019 \\\\\n",
      "Sample-Efficient Reinforcement Learning with Stochastic Ensemble Value Expansion & 2018 \\\\\n",
      "Online Ensemble Multi-kernel Learning Adaptive to Non-stationary and Adversarial Environments & 2018 \\\\\n",
      "Dropout-enabled ensemble learning for multi-scale biomedical data & 2019 \\\\\n",
      "clusterExperiment and RSEC: A Bioconductor package and framework for clustering of single-cell and other large gene expression datasets & 2018 \\\\\n",
      "Detecting Android malicious apps and categorizing benign apps with ensemble of classifiers & 2018 \\\\\n",
      "clusterExperiment and RSEC: A Bioconductor package and framework for clustering of single-cell and other large gene expression datasets & 2018 \\\\\n",
      "The relative performance of ensemble methods with deep convolutional neural networks for image classification & 2018 \\\\\n",
      "Ensemble Learning for Effective Run-Time Hardware-Based Malware Detection: A Comprehensive Analysis and Classification Security Analysis of Logic Locking View project Many-Core View project Ensemble Learning for Effective Run-Time Hardware-Based Malware Detection: A Comprehensive Analysis and Classification & 2018 \\\\\n",
      "Using contextual features and multi-view ensemble learning in product defect identification from online discussion forums & 1 \\\\\n",
      "iBCE-EL: A New Ensemble Learning Framework for Improved Linear B-Cell Epitope Prediction & 2018 \\\\\n",
      "A non-iterative decomposition-ensemble learning paradigm using RVFL network for crude oil price forecasting & 1 \\\\\n",
      "Wind speed forecasting using nonlinear-learning ensemble of deep learning time series prediction and extremal optimization & 1 \\\\\n",
      "iEnhancer-EL: identifying enhancers and their strength with ensemble learning approach & 1 \\\\\n",
      "The online performance estimation framework: heterogeneous ensemble learning for data streams & 2018 \\\\\n",
      "M6APred-EL: a sequence-based predictor for identifying N6-methyladenosine sites using ensemble learning & 1 \\\\\n",
      "Constrained binary classification using ensemble learning: an application to cost-efficient targeted PrEP strategies & 2018 \\\\\n",
      "A novel ensemble learning approach to support building energy use prediction & 1 \\\\\n"
     ]
    }
   ],
   "source": [
    "import xml.etree.ElementTree as ET\n",
    "\n",
    "tree = ET.parse('mendeley_export.xml')\n",
    "root = tree.getroot()\n",
    "\n",
    "#a_2018, a_2019 = [], []\n",
    "\n",
    "for article in root:\n",
    "    a_title = article[2].text\n",
    "    a_year = article[3].text\n",
    "    print(f'{a_title} & {a_year} \\\\\\\\')"
   ]
  },
  {
   "cell_type": "code",
   "execution_count": null,
   "metadata": {},
   "outputs": [],
   "source": []
  }
 ],
 "metadata": {
  "kernelspec": {
   "display_name": "Python 3",
   "language": "python",
   "name": "python3"
  },
  "language_info": {
   "codemirror_mode": {
    "name": "ipython",
    "version": 3
   },
   "file_extension": ".py",
   "mimetype": "text/x-python",
   "name": "python",
   "nbconvert_exporter": "python",
   "pygments_lexer": "ipython3",
   "version": "3.7.1"
  }
 },
 "nbformat": 4,
 "nbformat_minor": 2
}
